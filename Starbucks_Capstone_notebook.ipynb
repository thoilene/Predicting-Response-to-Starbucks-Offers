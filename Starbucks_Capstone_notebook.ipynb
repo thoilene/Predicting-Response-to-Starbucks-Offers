{
 "cells": [
  {
   "cell_type": "markdown",
   "metadata": {},
   "source": [
    "# Starbucks Capstone Challenge\n",
    "\n",
    "### Introduction\n",
    "\n",
    "This data set contains simulated data that mimics customer behavior on the Starbucks rewards mobile app. Once every few days, Starbucks sends out an offer to users of the mobile app. An offer can be merely an advertisement for a drink or an actual offer such as a discount or BOGO (buy one get one free). Some users might not receive any offer during certain weeks. \n",
    "\n",
    "Not all users receive the same offer, and that is the challenge to solve with this data set.\n",
    "\n",
    "Your task is to combine transaction, demographic and offer data to determine which demographic groups respond best to which offer type. This data set is a simplified version of the real Starbucks app because the underlying simulator only has one product whereas Starbucks actually sells dozens of products.\n",
    "\n",
    "Every offer has a validity period before the offer expires. As an example, a BOGO offer might be valid for only 5 days. You'll see in the data set that informational offers have a validity period even though these ads are merely providing information about a product; for example, if an informational offer has 7 days of validity, you can assume the customer is feeling the influence of the offer for 7 days after receiving the advertisement.\n",
    "\n",
    "You'll be given transactional data showing user purchases made on the app including the timestamp of purchase and the amount of money spent on a purchase. This transactional data also has a record for each offer that a user receives as well as a record for when a user actually views the offer. There are also records for when a user completes an offer. \n",
    "\n",
    "Keep in mind as well that someone using the app might make a purchase through the app without having received an offer or seen an offer.\n",
    "\n",
    "### Example\n",
    "\n",
    "To give an example, a user could receive a discount offer buy 10 dollars get 2 off on Monday. The offer is valid for 10 days from receipt. If the customer accumulates at least 10 dollars in purchases during the validity period, the customer completes the offer.\n",
    "\n",
    "However, there are a few things to watch out for in this data set. Customers do not opt into the offers that they receive; in other words, a user can receive an offer, never actually view the offer, and still complete the offer. For example, a user might receive the \"buy 10 dollars get 2 dollars off offer\", but the user never opens the offer during the 10 day validity period. The customer spends 15 dollars during those ten days. There will be an offer completion record in the data set; however, the customer was not influenced by the offer because the customer never viewed the offer.\n",
    "\n",
    "### Cleaning\n",
    "\n",
    "This makes data cleaning especially important and tricky.\n",
    "\n",
    "You'll also want to take into account that some demographic groups will make purchases even if they don't receive an offer. From a business perspective, if a customer is going to make a 10 dollar purchase without an offer anyway, you wouldn't want to send a buy 10 dollars get 2 dollars off offer. You'll want to try to assess what a certain demographic group will buy when not receiving any offers.\n",
    "\n",
    "### Final Advice\n",
    "\n",
    "Because this is a capstone project, you are free to analyze the data any way you see fit. For example, you could build a machine learning model that predicts how much someone will spend based on demographics and offer type. Or you could build a model that predicts whether or not someone will respond to an offer. Or, you don't need to build a machine learning model at all. You could develop a set of heuristics that determine what offer you should send to each customer (i.e., 75 percent of women customers who were 35 years old responded to offer A vs 40 percent from the same demographic to offer B, so send offer A)."
   ]
  },
  {
   "cell_type": "markdown",
   "metadata": {},
   "source": [
    "# Data Sets\n",
    "\n",
    "The data is contained in three files:\n",
    "\n",
    "* portfolio.json - containing offer ids and meta data about each offer (duration, type, etc.)\n",
    "* profile.json - demographic data for each customer\n",
    "* transcript.json - records for transactions, offers received, offers viewed, and offers completed\n",
    "\n",
    "Here is the schema and explanation of each variable in the files:\n",
    "\n",
    "**portfolio.json**\n",
    "* id (string) - offer id\n",
    "* offer_type (string) - type of offer ie BOGO, discount, informational\n",
    "* difficulty (int) - minimum required spend to complete an offer\n",
    "* reward (int) - reward given for completing an offer\n",
    "* duration (int) - time for offer to be open, in days\n",
    "* channels (list of strings)\n",
    "\n",
    "**profile.json**\n",
    "* age (int) - age of the customer \n",
    "* became_member_on (int) - date when customer created an app account\n",
    "* gender (str) - gender of the customer (note some entries contain 'O' for other rather than M or F)\n",
    "* id (str) - customer id\n",
    "* income (float) - customer's income\n",
    "\n",
    "**transcript.json**\n",
    "* event (str) - record description (ie transaction, offer received, offer viewed, etc.)\n",
    "* person (str) - customer id\n",
    "* time (int) - time in hours since start of test. The data begins at time t=0\n",
    "* value - (dict of strings) - either an offer id or transaction amount depending on the record\n",
    "\n",
    "**Note:** If you are using the workspace, you will need to go to the terminal and run the command `conda update pandas` before reading in the files. This is because the version of pandas in the workspace cannot read in the transcript.json file correctly, but the newest version of pandas can. You can access the termnal from the orange icon in the top left of this notebook.  \n",
    "\n",
    "You can see how to access the terminal and how the install works using the two images below.  First you need to access the terminal:\n",
    "\n",
    "<img src=\"pic1.png\"/>\n",
    "\n",
    "Then you will want to run the above command:\n",
    "\n",
    "<img src=\"pic2.png\"/>\n",
    "\n",
    "Finally, when you enter back into the notebook (use the jupyter icon again), you should be able to run the below cell without any errors."
   ]
  },
  {
   "cell_type": "markdown",
   "metadata": {},
   "source": [
    "# 1. Business understanding"
   ]
  },
  {
   "cell_type": "markdown",
   "metadata": {},
   "source": [
    "The Starbucks rewards app allows users to earn rewards when they pay through that app. The process of earning rewards consists of receiving, displaying and completing offers. One important issue concerns the responsiveness of app users who receive offers:\n",
    "\n",
    "- Could the response of a given user to a given offer be precited ? Will a given user respond to a given offer ?\n",
    "- What are the most importants factors when it is about to predict the responsiveness of a user to an offer ?\n",
    "\n",
    "- Which are the most accepted offers ?\n",
    "- Which are the most beneficial offers from the perspective of revenues ?\n",
    "- What is the profile of the typical/ideal target user (age, income, gender) ?\n",
    "\n",
    "The answers to these questions could help the company in various ways. By avoiding sending offers to users who are less likely to respond, the company could save advertising costs. This would also allow the company to work more efficiently by targeting those people who are more likely to respond to certain offers. The section \"Exploratory Data Analysis\" below gives deep insights into the data. The conclusion at the end of this Jupyter notebook provides a summary of the answers to all questions asked here."
   ]
  },
  {
   "cell_type": "markdown",
   "metadata": {},
   "source": [
    "# 2. Data understanding"
   ]
  },
  {
   "cell_type": "markdown",
   "metadata": {},
   "source": [
    "The data set consists of 3 categories of data:\n",
    "- Portfolio data\n",
    "- Profile data \n",
    "- Transcript data\n",
    "\n",
    "Portfolio data contain offer details: communication channels, offer type, difficulty, duration, reward.\n",
    "These details could impact the decision of the user to repond to the offer or not.\n",
    "\n",
    "Profile data contain demographics of the user: age, income, gender, date where the user became member.\n",
    "These details could explain the decision or a user to complete an offer or not. \n",
    "\n",
    "Transcript data contain details about the interactions between user and offer: receiving time, review time, completion time, amount of money paid."
   ]
  },
  {
   "cell_type": "markdown",
   "metadata": {},
   "source": [
    "### Response information"
   ]
  },
  {
   "cell_type": "markdown",
   "metadata": {},
   "source": [
    "On the first view, it is not clear whether a user has responded to an offer or not. That's why it is necessary to define the criteria of a successful response. An offer is considered as successfuly responded by a user if and only if:\n",
    "\n",
    "- Transcript records of the offer are marked as received, viewed and completed by the user.\n",
    "- Offer is received, viewed and completed within the valid duration (validity)\n",
    "- Offer is viewed before completion (consistency)\n",
    "\n",
    "The response information could be extracted from transcript and portfolio data described above."
   ]
  },
  {
   "cell_type": "markdown",
   "metadata": {},
   "source": [
    "Finally, portfolio, profile and transcript data will be used to build a machine learning model to predict the response of a user to an offer."
   ]
  },
  {
   "cell_type": "markdown",
   "metadata": {},
   "source": [
    " "
   ]
  },
  {
   "cell_type": "code",
   "execution_count": 1,
   "metadata": {},
   "outputs": [],
   "source": [
    "# Module imports\n",
    "\n",
    "import pandas as pd\n",
    "import numpy as np\n",
    "import math\n",
    "import json\n",
    "% matplotlib inline\n",
    "\n",
    "import seaborn as sb\n",
    "\n",
    "from matplotlib import pyplot as plt\n",
    "from sklearn.ensemble import GradientBoostingClassifier, RandomForestClassifier,ExtraTreesClassifier\n",
    "from sklearn.linear_model import LogisticRegression\n",
    "from sklearn.model_selection import train_test_split\n",
    "from sklearn.metrics import accuracy_score, f1_score\n",
    "from sklearn.metrics import fbeta_score, make_scorer\n",
    "from sklearn.model_selection import GridSearchCV, RandomizedSearchCV\n",
    "\n",
    "import matplotlib.pyplot as plt\n",
    "from scipy.stats import spearmanr\n",
    "from scipy.cluster import hierarchy\n",
    "\n",
    "from sklearn.datasets import load_breast_cancer\n",
    "from sklearn.ensemble import RandomForestClassifier, AdaBoostClassifier, BaggingClassifier\n",
    "from sklearn.tree import DecisionTreeClassifier\n",
    "from sklearn.model_selection import train_test_split\n",
    "\n",
    "from sklearn.feature_selection import SelectFromModel\n",
    "\n",
    "from sklearn import datasets\n",
    "from sklearn.feature_selection import RFE\n",
    "from sklearn.linear_model import LogisticRegression\n",
    "from sklearn.neighbors import KNeighborsClassifier\n",
    "from sklearn.preprocessing import MinMaxScaler\n",
    "from sklearn import svm, datasets\n",
    "\n",
    "\n",
    "from IPython.display import clear_output, display\n",
    "import time\n"
   ]
  },
  {
   "cell_type": "markdown",
   "metadata": {},
   "source": [
    "# 3. Data Preparation"
   ]
  },
  {
   "cell_type": "markdown",
   "metadata": {},
   "source": [
    "## 3.1 Data Access"
   ]
  },
  {
   "cell_type": "code",
   "execution_count": 2,
   "metadata": {},
   "outputs": [],
   "source": [
    "# read in data from json files\n",
    "\n",
    "portfolio = pd.read_json('data/portfolio.json', orient='records', lines=True)\n",
    "profile = pd.read_json('data/profile.json', orient='records', lines=True)\n",
    "transcript = pd.read_json('data/transcript.json', orient='records', lines=True)"
   ]
  },
  {
   "cell_type": "code",
   "execution_count": 3,
   "metadata": {},
   "outputs": [
    {
     "data": {
      "text/html": [
       "<div>\n",
       "<style scoped>\n",
       "    .dataframe tbody tr th:only-of-type {\n",
       "        vertical-align: middle;\n",
       "    }\n",
       "\n",
       "    .dataframe tbody tr th {\n",
       "        vertical-align: top;\n",
       "    }\n",
       "\n",
       "    .dataframe thead th {\n",
       "        text-align: right;\n",
       "    }\n",
       "</style>\n",
       "<table border=\"1\" class=\"dataframe\">\n",
       "  <thead>\n",
       "    <tr style=\"text-align: right;\">\n",
       "      <th></th>\n",
       "      <th>channels</th>\n",
       "      <th>difficulty</th>\n",
       "      <th>duration</th>\n",
       "      <th>id</th>\n",
       "      <th>offer_type</th>\n",
       "      <th>reward</th>\n",
       "    </tr>\n",
       "  </thead>\n",
       "  <tbody>\n",
       "    <tr>\n",
       "      <th>0</th>\n",
       "      <td>[email, mobile, social]</td>\n",
       "      <td>10</td>\n",
       "      <td>7</td>\n",
       "      <td>ae264e3637204a6fb9bb56bc8210ddfd</td>\n",
       "      <td>bogo</td>\n",
       "      <td>10</td>\n",
       "    </tr>\n",
       "    <tr>\n",
       "      <th>1</th>\n",
       "      <td>[web, email, mobile, social]</td>\n",
       "      <td>10</td>\n",
       "      <td>5</td>\n",
       "      <td>4d5c57ea9a6940dd891ad53e9dbe8da0</td>\n",
       "      <td>bogo</td>\n",
       "      <td>10</td>\n",
       "    </tr>\n",
       "    <tr>\n",
       "      <th>2</th>\n",
       "      <td>[web, email, mobile]</td>\n",
       "      <td>0</td>\n",
       "      <td>4</td>\n",
       "      <td>3f207df678b143eea3cee63160fa8bed</td>\n",
       "      <td>informational</td>\n",
       "      <td>0</td>\n",
       "    </tr>\n",
       "  </tbody>\n",
       "</table>\n",
       "</div>"
      ],
      "text/plain": [
       "                       channels  difficulty  duration  \\\n",
       "0       [email, mobile, social]          10         7   \n",
       "1  [web, email, mobile, social]          10         5   \n",
       "2          [web, email, mobile]           0         4   \n",
       "\n",
       "                                 id     offer_type  reward  \n",
       "0  ae264e3637204a6fb9bb56bc8210ddfd           bogo      10  \n",
       "1  4d5c57ea9a6940dd891ad53e9dbe8da0           bogo      10  \n",
       "2  3f207df678b143eea3cee63160fa8bed  informational       0  "
      ]
     },
     "execution_count": 3,
     "metadata": {},
     "output_type": "execute_result"
    }
   ],
   "source": [
    "portfolio.head(3) # displaying raw portfolio data"
   ]
  },
  {
   "cell_type": "code",
   "execution_count": 4,
   "metadata": {},
   "outputs": [
    {
     "data": {
      "text/html": [
       "<div>\n",
       "<style scoped>\n",
       "    .dataframe tbody tr th:only-of-type {\n",
       "        vertical-align: middle;\n",
       "    }\n",
       "\n",
       "    .dataframe tbody tr th {\n",
       "        vertical-align: top;\n",
       "    }\n",
       "\n",
       "    .dataframe thead th {\n",
       "        text-align: right;\n",
       "    }\n",
       "</style>\n",
       "<table border=\"1\" class=\"dataframe\">\n",
       "  <thead>\n",
       "    <tr style=\"text-align: right;\">\n",
       "      <th></th>\n",
       "      <th>age</th>\n",
       "      <th>became_member_on</th>\n",
       "      <th>gender</th>\n",
       "      <th>id</th>\n",
       "      <th>income</th>\n",
       "    </tr>\n",
       "  </thead>\n",
       "  <tbody>\n",
       "    <tr>\n",
       "      <th>0</th>\n",
       "      <td>118</td>\n",
       "      <td>20170212</td>\n",
       "      <td>None</td>\n",
       "      <td>68be06ca386d4c31939f3a4f0e3dd783</td>\n",
       "      <td>NaN</td>\n",
       "    </tr>\n",
       "    <tr>\n",
       "      <th>1</th>\n",
       "      <td>55</td>\n",
       "      <td>20170715</td>\n",
       "      <td>F</td>\n",
       "      <td>0610b486422d4921ae7d2bf64640c50b</td>\n",
       "      <td>112000.0</td>\n",
       "    </tr>\n",
       "    <tr>\n",
       "      <th>2</th>\n",
       "      <td>118</td>\n",
       "      <td>20180712</td>\n",
       "      <td>None</td>\n",
       "      <td>38fe809add3b4fcf9315a9694bb96ff5</td>\n",
       "      <td>NaN</td>\n",
       "    </tr>\n",
       "  </tbody>\n",
       "</table>\n",
       "</div>"
      ],
      "text/plain": [
       "   age  became_member_on gender                                id    income\n",
       "0  118          20170212   None  68be06ca386d4c31939f3a4f0e3dd783       NaN\n",
       "1   55          20170715      F  0610b486422d4921ae7d2bf64640c50b  112000.0\n",
       "2  118          20180712   None  38fe809add3b4fcf9315a9694bb96ff5       NaN"
      ]
     },
     "execution_count": 4,
     "metadata": {},
     "output_type": "execute_result"
    }
   ],
   "source": [
    "profile.head(3) # displaying raw profile data"
   ]
  },
  {
   "cell_type": "code",
   "execution_count": 5,
   "metadata": {},
   "outputs": [
    {
     "data": {
      "text/html": [
       "<div>\n",
       "<style scoped>\n",
       "    .dataframe tbody tr th:only-of-type {\n",
       "        vertical-align: middle;\n",
       "    }\n",
       "\n",
       "    .dataframe tbody tr th {\n",
       "        vertical-align: top;\n",
       "    }\n",
       "\n",
       "    .dataframe thead th {\n",
       "        text-align: right;\n",
       "    }\n",
       "</style>\n",
       "<table border=\"1\" class=\"dataframe\">\n",
       "  <thead>\n",
       "    <tr style=\"text-align: right;\">\n",
       "      <th></th>\n",
       "      <th>event</th>\n",
       "      <th>person</th>\n",
       "      <th>time</th>\n",
       "      <th>value</th>\n",
       "    </tr>\n",
       "  </thead>\n",
       "  <tbody>\n",
       "    <tr>\n",
       "      <th>0</th>\n",
       "      <td>offer received</td>\n",
       "      <td>78afa995795e4d85b5d9ceeca43f5fef</td>\n",
       "      <td>0</td>\n",
       "      <td>{'offer id': '9b98b8c7a33c4b65b9aebfe6a799e6d9'}</td>\n",
       "    </tr>\n",
       "    <tr>\n",
       "      <th>1</th>\n",
       "      <td>offer received</td>\n",
       "      <td>a03223e636434f42ac4c3df47e8bac43</td>\n",
       "      <td>0</td>\n",
       "      <td>{'offer id': '0b1e1539f2cc45b7b9fa7c272da2e1d7'}</td>\n",
       "    </tr>\n",
       "    <tr>\n",
       "      <th>2</th>\n",
       "      <td>offer received</td>\n",
       "      <td>e2127556f4f64592b11af22de27a7932</td>\n",
       "      <td>0</td>\n",
       "      <td>{'offer id': '2906b810c7d4411798c6938adc9daaa5'}</td>\n",
       "    </tr>\n",
       "  </tbody>\n",
       "</table>\n",
       "</div>"
      ],
      "text/plain": [
       "            event                            person  time  \\\n",
       "0  offer received  78afa995795e4d85b5d9ceeca43f5fef     0   \n",
       "1  offer received  a03223e636434f42ac4c3df47e8bac43     0   \n",
       "2  offer received  e2127556f4f64592b11af22de27a7932     0   \n",
       "\n",
       "                                              value  \n",
       "0  {'offer id': '9b98b8c7a33c4b65b9aebfe6a799e6d9'}  \n",
       "1  {'offer id': '0b1e1539f2cc45b7b9fa7c272da2e1d7'}  \n",
       "2  {'offer id': '2906b810c7d4411798c6938adc9daaa5'}  "
      ]
     },
     "execution_count": 5,
     "metadata": {},
     "output_type": "execute_result"
    }
   ],
   "source": [
    "transcript.head(3) # displaying raw transcript data"
   ]
  },
  {
   "cell_type": "markdown",
   "metadata": {},
   "source": [
    " "
   ]
  },
  {
   "cell_type": "markdown",
   "metadata": {},
   "source": [
    "## 3.2 Clean Data "
   ]
  },
  {
   "cell_type": "markdown",
   "metadata": {},
   "source": [
    "### Cleaning portfolio data"
   ]
  },
  {
   "cell_type": "markdown",
   "metadata": {},
   "source": [
    "1. Checking for null values\n",
    "2. Splitting channels - Create a column for each channel"
   ]
  },
  {
   "cell_type": "code",
   "execution_count": 6,
   "metadata": {},
   "outputs": [
    {
     "data": {
      "text/html": [
       "<div>\n",
       "<style scoped>\n",
       "    .dataframe tbody tr th:only-of-type {\n",
       "        vertical-align: middle;\n",
       "    }\n",
       "\n",
       "    .dataframe tbody tr th {\n",
       "        vertical-align: top;\n",
       "    }\n",
       "\n",
       "    .dataframe thead th {\n",
       "        text-align: right;\n",
       "    }\n",
       "</style>\n",
       "<table border=\"1\" class=\"dataframe\">\n",
       "  <thead>\n",
       "    <tr style=\"text-align: right;\">\n",
       "      <th></th>\n",
       "      <th>channels</th>\n",
       "      <th>difficulty</th>\n",
       "      <th>duration</th>\n",
       "      <th>id</th>\n",
       "      <th>offer_type</th>\n",
       "      <th>reward</th>\n",
       "    </tr>\n",
       "  </thead>\n",
       "  <tbody>\n",
       "    <tr>\n",
       "      <th>0</th>\n",
       "      <td>[email, mobile, social]</td>\n",
       "      <td>10</td>\n",
       "      <td>7</td>\n",
       "      <td>ae264e3637204a6fb9bb56bc8210ddfd</td>\n",
       "      <td>bogo</td>\n",
       "      <td>10</td>\n",
       "    </tr>\n",
       "    <tr>\n",
       "      <th>1</th>\n",
       "      <td>[web, email, mobile, social]</td>\n",
       "      <td>10</td>\n",
       "      <td>5</td>\n",
       "      <td>4d5c57ea9a6940dd891ad53e9dbe8da0</td>\n",
       "      <td>bogo</td>\n",
       "      <td>10</td>\n",
       "    </tr>\n",
       "    <tr>\n",
       "      <th>2</th>\n",
       "      <td>[web, email, mobile]</td>\n",
       "      <td>0</td>\n",
       "      <td>4</td>\n",
       "      <td>3f207df678b143eea3cee63160fa8bed</td>\n",
       "      <td>informational</td>\n",
       "      <td>0</td>\n",
       "    </tr>\n",
       "  </tbody>\n",
       "</table>\n",
       "</div>"
      ],
      "text/plain": [
       "                       channels  difficulty  duration  \\\n",
       "0       [email, mobile, social]          10         7   \n",
       "1  [web, email, mobile, social]          10         5   \n",
       "2          [web, email, mobile]           0         4   \n",
       "\n",
       "                                 id     offer_type  reward  \n",
       "0  ae264e3637204a6fb9bb56bc8210ddfd           bogo      10  \n",
       "1  4d5c57ea9a6940dd891ad53e9dbe8da0           bogo      10  \n",
       "2  3f207df678b143eea3cee63160fa8bed  informational       0  "
      ]
     },
     "execution_count": 6,
     "metadata": {},
     "output_type": "execute_result"
    }
   ],
   "source": [
    "portfolio.head(3)"
   ]
  },
  {
   "cell_type": "code",
   "execution_count": 7,
   "metadata": {},
   "outputs": [
    {
     "data": {
      "text/plain": [
       "channels      0\n",
       "difficulty    0\n",
       "duration      0\n",
       "id            0\n",
       "offer_type    0\n",
       "reward        0\n",
       "dtype: int64"
      ]
     },
     "execution_count": 7,
     "metadata": {},
     "output_type": "execute_result"
    }
   ],
   "source": [
    "portfolio.isnull().sum() # Checking null values"
   ]
  },
  {
   "cell_type": "code",
   "execution_count": 8,
   "metadata": {},
   "outputs": [
    {
     "data": {
      "text/html": [
       "<div>\n",
       "<style scoped>\n",
       "    .dataframe tbody tr th:only-of-type {\n",
       "        vertical-align: middle;\n",
       "    }\n",
       "\n",
       "    .dataframe tbody tr th {\n",
       "        vertical-align: top;\n",
       "    }\n",
       "\n",
       "    .dataframe thead th {\n",
       "        text-align: right;\n",
       "    }\n",
       "</style>\n",
       "<table border=\"1\" class=\"dataframe\">\n",
       "  <thead>\n",
       "    <tr style=\"text-align: right;\">\n",
       "      <th></th>\n",
       "      <th>id</th>\n",
       "      <th>difficulty</th>\n",
       "      <th>duration</th>\n",
       "      <th>reward</th>\n",
       "      <th>channel_mobile</th>\n",
       "      <th>channel_email</th>\n",
       "      <th>channel_social</th>\n",
       "      <th>channel_web</th>\n",
       "      <th>offer_type</th>\n",
       "    </tr>\n",
       "  </thead>\n",
       "  <tbody>\n",
       "    <tr>\n",
       "      <th>0</th>\n",
       "      <td>ae264e3637204a6fb9bb56bc8210ddfd</td>\n",
       "      <td>10</td>\n",
       "      <td>7</td>\n",
       "      <td>10</td>\n",
       "      <td>1</td>\n",
       "      <td>1</td>\n",
       "      <td>1</td>\n",
       "      <td>0</td>\n",
       "      <td>bogo</td>\n",
       "    </tr>\n",
       "    <tr>\n",
       "      <th>1</th>\n",
       "      <td>4d5c57ea9a6940dd891ad53e9dbe8da0</td>\n",
       "      <td>10</td>\n",
       "      <td>5</td>\n",
       "      <td>10</td>\n",
       "      <td>1</td>\n",
       "      <td>1</td>\n",
       "      <td>1</td>\n",
       "      <td>1</td>\n",
       "      <td>bogo</td>\n",
       "    </tr>\n",
       "    <tr>\n",
       "      <th>2</th>\n",
       "      <td>3f207df678b143eea3cee63160fa8bed</td>\n",
       "      <td>0</td>\n",
       "      <td>4</td>\n",
       "      <td>0</td>\n",
       "      <td>1</td>\n",
       "      <td>1</td>\n",
       "      <td>0</td>\n",
       "      <td>1</td>\n",
       "      <td>informational</td>\n",
       "    </tr>\n",
       "    <tr>\n",
       "      <th>3</th>\n",
       "      <td>9b98b8c7a33c4b65b9aebfe6a799e6d9</td>\n",
       "      <td>5</td>\n",
       "      <td>7</td>\n",
       "      <td>5</td>\n",
       "      <td>1</td>\n",
       "      <td>1</td>\n",
       "      <td>0</td>\n",
       "      <td>1</td>\n",
       "      <td>bogo</td>\n",
       "    </tr>\n",
       "    <tr>\n",
       "      <th>4</th>\n",
       "      <td>0b1e1539f2cc45b7b9fa7c272da2e1d7</td>\n",
       "      <td>20</td>\n",
       "      <td>10</td>\n",
       "      <td>5</td>\n",
       "      <td>0</td>\n",
       "      <td>1</td>\n",
       "      <td>0</td>\n",
       "      <td>1</td>\n",
       "      <td>discount</td>\n",
       "    </tr>\n",
       "    <tr>\n",
       "      <th>5</th>\n",
       "      <td>2298d6c36e964ae4a3e7e9706d1fb8c2</td>\n",
       "      <td>7</td>\n",
       "      <td>7</td>\n",
       "      <td>3</td>\n",
       "      <td>1</td>\n",
       "      <td>1</td>\n",
       "      <td>1</td>\n",
       "      <td>1</td>\n",
       "      <td>discount</td>\n",
       "    </tr>\n",
       "    <tr>\n",
       "      <th>6</th>\n",
       "      <td>fafdcd668e3743c1bb461111dcafc2a4</td>\n",
       "      <td>10</td>\n",
       "      <td>10</td>\n",
       "      <td>2</td>\n",
       "      <td>1</td>\n",
       "      <td>1</td>\n",
       "      <td>1</td>\n",
       "      <td>1</td>\n",
       "      <td>discount</td>\n",
       "    </tr>\n",
       "    <tr>\n",
       "      <th>7</th>\n",
       "      <td>5a8bc65990b245e5a138643cd4eb9837</td>\n",
       "      <td>0</td>\n",
       "      <td>3</td>\n",
       "      <td>0</td>\n",
       "      <td>1</td>\n",
       "      <td>1</td>\n",
       "      <td>1</td>\n",
       "      <td>0</td>\n",
       "      <td>informational</td>\n",
       "    </tr>\n",
       "    <tr>\n",
       "      <th>8</th>\n",
       "      <td>f19421c1d4aa40978ebb69ca19b0e20d</td>\n",
       "      <td>5</td>\n",
       "      <td>5</td>\n",
       "      <td>5</td>\n",
       "      <td>1</td>\n",
       "      <td>1</td>\n",
       "      <td>1</td>\n",
       "      <td>1</td>\n",
       "      <td>bogo</td>\n",
       "    </tr>\n",
       "    <tr>\n",
       "      <th>9</th>\n",
       "      <td>2906b810c7d4411798c6938adc9daaa5</td>\n",
       "      <td>10</td>\n",
       "      <td>7</td>\n",
       "      <td>2</td>\n",
       "      <td>1</td>\n",
       "      <td>1</td>\n",
       "      <td>0</td>\n",
       "      <td>1</td>\n",
       "      <td>discount</td>\n",
       "    </tr>\n",
       "  </tbody>\n",
       "</table>\n",
       "</div>"
      ],
      "text/plain": [
       "                                 id  difficulty  duration  reward  \\\n",
       "0  ae264e3637204a6fb9bb56bc8210ddfd          10         7      10   \n",
       "1  4d5c57ea9a6940dd891ad53e9dbe8da0          10         5      10   \n",
       "2  3f207df678b143eea3cee63160fa8bed           0         4       0   \n",
       "3  9b98b8c7a33c4b65b9aebfe6a799e6d9           5         7       5   \n",
       "4  0b1e1539f2cc45b7b9fa7c272da2e1d7          20        10       5   \n",
       "5  2298d6c36e964ae4a3e7e9706d1fb8c2           7         7       3   \n",
       "6  fafdcd668e3743c1bb461111dcafc2a4          10        10       2   \n",
       "7  5a8bc65990b245e5a138643cd4eb9837           0         3       0   \n",
       "8  f19421c1d4aa40978ebb69ca19b0e20d           5         5       5   \n",
       "9  2906b810c7d4411798c6938adc9daaa5          10         7       2   \n",
       "\n",
       "   channel_mobile  channel_email  channel_social  channel_web     offer_type  \n",
       "0               1              1               1            0           bogo  \n",
       "1               1              1               1            1           bogo  \n",
       "2               1              1               0            1  informational  \n",
       "3               1              1               0            1           bogo  \n",
       "4               0              1               0            1       discount  \n",
       "5               1              1               1            1       discount  \n",
       "6               1              1               1            1       discount  \n",
       "7               1              1               1            0  informational  \n",
       "8               1              1               1            1           bogo  \n",
       "9               1              1               0            1       discount  "
      ]
     },
     "metadata": {},
     "output_type": "display_data"
    }
   ],
   "source": [
    "# Function to clean portfolio data\n",
    "def clean_portfolio_data(ldf):\n",
    "    \n",
    "    portfolio_clean = ldf.copy()\n",
    "    \n",
    "    # Splitting channel values into columns\n",
    "\n",
    "    chans = set(['web', 'email', 'mobile', 'social'])\n",
    "\n",
    "    for chan in portfolio_clean.channels.values:\n",
    "        chans = chans.union(set(chan))\n",
    "    chans = list(chans)\n",
    "\n",
    "    data = {}\n",
    "    for rec in chans:\n",
    "        vals = []\n",
    "        for x in range(portfolio_clean.shape[0]):\n",
    "            if rec in portfolio_clean.channels.values[x]:\n",
    "                vals.append(1)\n",
    "            else:\n",
    "                vals.append(0)\n",
    "        data[rec]=vals\n",
    "        portfolio_clean[\"channel_\"+rec]=vals\n",
    "\n",
    "    data_df = pd.DataFrame(data)\n",
    "\n",
    "    # Applying one hot encoding on categorical variable 'offer_type'\n",
    "\n",
    "    portfolio_clean.drop(['channels'],axis=1,inplace=True)\n",
    "\n",
    "    # Reordering columns\n",
    "    portfolio_columns = ['id','difficulty','duration','reward','channel_mobile','channel_email','channel_social','channel_web','offer_type']\n",
    "    portfolio_clean = portfolio_clean.reindex(columns=portfolio_columns)\n",
    "\n",
    "    return portfolio_clean \n",
    "\n",
    "portfolio_clean = clean_portfolio_data(ldf=portfolio)\n",
    "display(portfolio_clean) # displaying clean portfolio data"
   ]
  },
  {
   "cell_type": "markdown",
   "metadata": {},
   "source": [
    "### Cleaning profile data"
   ]
  },
  {
   "cell_type": "markdown",
   "metadata": {},
   "source": [
    "1. Handling null values: removing all rows with null values as they correspond to wrong profiles\n",
    "2. Extracting year and month from date where the user became member"
   ]
  },
  {
   "cell_type": "code",
   "execution_count": 9,
   "metadata": {},
   "outputs": [
    {
     "data": {
      "text/html": [
       "<div>\n",
       "<style scoped>\n",
       "    .dataframe tbody tr th:only-of-type {\n",
       "        vertical-align: middle;\n",
       "    }\n",
       "\n",
       "    .dataframe tbody tr th {\n",
       "        vertical-align: top;\n",
       "    }\n",
       "\n",
       "    .dataframe thead th {\n",
       "        text-align: right;\n",
       "    }\n",
       "</style>\n",
       "<table border=\"1\" class=\"dataframe\">\n",
       "  <thead>\n",
       "    <tr style=\"text-align: right;\">\n",
       "      <th></th>\n",
       "      <th>age</th>\n",
       "      <th>became_member_on</th>\n",
       "      <th>gender</th>\n",
       "      <th>id</th>\n",
       "      <th>income</th>\n",
       "    </tr>\n",
       "  </thead>\n",
       "  <tbody>\n",
       "    <tr>\n",
       "      <th>0</th>\n",
       "      <td>118</td>\n",
       "      <td>20170212</td>\n",
       "      <td>None</td>\n",
       "      <td>68be06ca386d4c31939f3a4f0e3dd783</td>\n",
       "      <td>NaN</td>\n",
       "    </tr>\n",
       "    <tr>\n",
       "      <th>1</th>\n",
       "      <td>55</td>\n",
       "      <td>20170715</td>\n",
       "      <td>F</td>\n",
       "      <td>0610b486422d4921ae7d2bf64640c50b</td>\n",
       "      <td>112000.0</td>\n",
       "    </tr>\n",
       "    <tr>\n",
       "      <th>2</th>\n",
       "      <td>118</td>\n",
       "      <td>20180712</td>\n",
       "      <td>None</td>\n",
       "      <td>38fe809add3b4fcf9315a9694bb96ff5</td>\n",
       "      <td>NaN</td>\n",
       "    </tr>\n",
       "  </tbody>\n",
       "</table>\n",
       "</div>"
      ],
      "text/plain": [
       "   age  became_member_on gender                                id    income\n",
       "0  118          20170212   None  68be06ca386d4c31939f3a4f0e3dd783       NaN\n",
       "1   55          20170715      F  0610b486422d4921ae7d2bf64640c50b  112000.0\n",
       "2  118          20180712   None  38fe809add3b4fcf9315a9694bb96ff5       NaN"
      ]
     },
     "execution_count": 9,
     "metadata": {},
     "output_type": "execute_result"
    }
   ],
   "source": [
    "profile.head(3)"
   ]
  },
  {
   "cell_type": "code",
   "execution_count": 10,
   "metadata": {},
   "outputs": [
    {
     "data": {
      "text/plain": [
       "age                    0\n",
       "became_member_on       0\n",
       "gender              2175\n",
       "id                     0\n",
       "income              2175\n",
       "dtype: int64"
      ]
     },
     "execution_count": 10,
     "metadata": {},
     "output_type": "execute_result"
    }
   ],
   "source": [
    "profile.isnull().sum() # Checking null values"
   ]
  },
  {
   "cell_type": "code",
   "execution_count": 11,
   "metadata": {},
   "outputs": [
    {
     "data": {
      "text/html": [
       "<div>\n",
       "<style scoped>\n",
       "    .dataframe tbody tr th:only-of-type {\n",
       "        vertical-align: middle;\n",
       "    }\n",
       "\n",
       "    .dataframe tbody tr th {\n",
       "        vertical-align: top;\n",
       "    }\n",
       "\n",
       "    .dataframe thead th {\n",
       "        text-align: right;\n",
       "    }\n",
       "</style>\n",
       "<table border=\"1\" class=\"dataframe\">\n",
       "  <thead>\n",
       "    <tr style=\"text-align: right;\">\n",
       "      <th></th>\n",
       "      <th>age</th>\n",
       "      <th>became_member_on</th>\n",
       "      <th>gender</th>\n",
       "      <th>id</th>\n",
       "      <th>income</th>\n",
       "    </tr>\n",
       "  </thead>\n",
       "  <tbody>\n",
       "    <tr>\n",
       "      <th>0</th>\n",
       "      <td>118</td>\n",
       "      <td>20170212</td>\n",
       "      <td>None</td>\n",
       "      <td>68be06ca386d4c31939f3a4f0e3dd783</td>\n",
       "      <td>NaN</td>\n",
       "    </tr>\n",
       "    <tr>\n",
       "      <th>2</th>\n",
       "      <td>118</td>\n",
       "      <td>20180712</td>\n",
       "      <td>None</td>\n",
       "      <td>38fe809add3b4fcf9315a9694bb96ff5</td>\n",
       "      <td>NaN</td>\n",
       "    </tr>\n",
       "    <tr>\n",
       "      <th>4</th>\n",
       "      <td>118</td>\n",
       "      <td>20170804</td>\n",
       "      <td>None</td>\n",
       "      <td>a03223e636434f42ac4c3df47e8bac43</td>\n",
       "      <td>NaN</td>\n",
       "    </tr>\n",
       "    <tr>\n",
       "      <th>6</th>\n",
       "      <td>118</td>\n",
       "      <td>20170925</td>\n",
       "      <td>None</td>\n",
       "      <td>8ec6ce2a7e7949b1bf142def7d0e0586</td>\n",
       "      <td>NaN</td>\n",
       "    </tr>\n",
       "    <tr>\n",
       "      <th>7</th>\n",
       "      <td>118</td>\n",
       "      <td>20171002</td>\n",
       "      <td>None</td>\n",
       "      <td>68617ca6246f4fbc85e91a2a49552598</td>\n",
       "      <td>NaN</td>\n",
       "    </tr>\n",
       "  </tbody>\n",
       "</table>\n",
       "</div>"
      ],
      "text/plain": [
       "   age  became_member_on gender                                id  income\n",
       "0  118          20170212   None  68be06ca386d4c31939f3a4f0e3dd783     NaN\n",
       "2  118          20180712   None  38fe809add3b4fcf9315a9694bb96ff5     NaN\n",
       "4  118          20170804   None  a03223e636434f42ac4c3df47e8bac43     NaN\n",
       "6  118          20170925   None  8ec6ce2a7e7949b1bf142def7d0e0586     NaN\n",
       "7  118          20171002   None  68617ca6246f4fbc85e91a2a49552598     NaN"
      ]
     },
     "execution_count": 11,
     "metadata": {},
     "output_type": "execute_result"
    }
   ],
   "source": [
    "wrong_profile_ids = profile[profile.gender.isnull()].id # Profile ids to be removed from all data\n",
    "profile[profile.gender.isnull()].head() # display wrong profiles"
   ]
  },
  {
   "cell_type": "markdown",
   "metadata": {},
   "source": [
    "Null values in profile data correspond to users with wrong profiles: unrealistic age of 118, no gender and no income. These profiles will be removed from all data."
   ]
  },
  {
   "cell_type": "code",
   "execution_count": 12,
   "metadata": {},
   "outputs": [
    {
     "name": "stdout",
     "output_type": "stream",
     "text": [
      "(17000, 5)\n"
     ]
    },
    {
     "data": {
      "text/html": [
       "<div>\n",
       "<style scoped>\n",
       "    .dataframe tbody tr th:only-of-type {\n",
       "        vertical-align: middle;\n",
       "    }\n",
       "\n",
       "    .dataframe tbody tr th {\n",
       "        vertical-align: top;\n",
       "    }\n",
       "\n",
       "    .dataframe thead th {\n",
       "        text-align: right;\n",
       "    }\n",
       "</style>\n",
       "<table border=\"1\" class=\"dataframe\">\n",
       "  <thead>\n",
       "    <tr style=\"text-align: right;\">\n",
       "      <th></th>\n",
       "      <th>id</th>\n",
       "      <th>age</th>\n",
       "      <th>income</th>\n",
       "      <th>gender</th>\n",
       "      <th>became_member_on_year</th>\n",
       "      <th>became_member_on_month</th>\n",
       "      <th>became_member_on_day</th>\n",
       "    </tr>\n",
       "  </thead>\n",
       "  <tbody>\n",
       "    <tr>\n",
       "      <th>0</th>\n",
       "      <td>0610b486422d4921ae7d2bf64640c50b</td>\n",
       "      <td>55</td>\n",
       "      <td>112000.0</td>\n",
       "      <td>F</td>\n",
       "      <td>2017</td>\n",
       "      <td>7</td>\n",
       "      <td>15</td>\n",
       "    </tr>\n",
       "    <tr>\n",
       "      <th>1</th>\n",
       "      <td>78afa995795e4d85b5d9ceeca43f5fef</td>\n",
       "      <td>75</td>\n",
       "      <td>100000.0</td>\n",
       "      <td>F</td>\n",
       "      <td>2017</td>\n",
       "      <td>5</td>\n",
       "      <td>9</td>\n",
       "    </tr>\n",
       "    <tr>\n",
       "      <th>2</th>\n",
       "      <td>e2127556f4f64592b11af22de27a7932</td>\n",
       "      <td>68</td>\n",
       "      <td>70000.0</td>\n",
       "      <td>M</td>\n",
       "      <td>2018</td>\n",
       "      <td>4</td>\n",
       "      <td>26</td>\n",
       "    </tr>\n",
       "    <tr>\n",
       "      <th>3</th>\n",
       "      <td>389bc3fa690240e798340f5a15918d5c</td>\n",
       "      <td>65</td>\n",
       "      <td>53000.0</td>\n",
       "      <td>M</td>\n",
       "      <td>2018</td>\n",
       "      <td>2</td>\n",
       "      <td>9</td>\n",
       "    </tr>\n",
       "    <tr>\n",
       "      <th>4</th>\n",
       "      <td>2eeac8d8feae4a8cad5a6af0499a211d</td>\n",
       "      <td>58</td>\n",
       "      <td>51000.0</td>\n",
       "      <td>M</td>\n",
       "      <td>2017</td>\n",
       "      <td>11</td>\n",
       "      <td>11</td>\n",
       "    </tr>\n",
       "  </tbody>\n",
       "</table>\n",
       "</div>"
      ],
      "text/plain": [
       "                                 id  age    income gender  \\\n",
       "0  0610b486422d4921ae7d2bf64640c50b   55  112000.0      F   \n",
       "1  78afa995795e4d85b5d9ceeca43f5fef   75  100000.0      F   \n",
       "2  e2127556f4f64592b11af22de27a7932   68   70000.0      M   \n",
       "3  389bc3fa690240e798340f5a15918d5c   65   53000.0      M   \n",
       "4  2eeac8d8feae4a8cad5a6af0499a211d   58   51000.0      M   \n",
       "\n",
       "   became_member_on_year  became_member_on_month  became_member_on_day  \n",
       "0                   2017                       7                    15  \n",
       "1                   2017                       5                     9  \n",
       "2                   2018                       4                    26  \n",
       "3                   2018                       2                     9  \n",
       "4                   2017                      11                    11  "
      ]
     },
     "metadata": {},
     "output_type": "display_data"
    }
   ],
   "source": [
    "def clean_profile(ldf): \n",
    "    profile_clean = ldf.copy()\n",
    "    print(profile.shape)\n",
    "\n",
    "    # Removing all rows with null values\n",
    "    profile_clean = profile_clean[~profile_clean.gender.isnull()]\n",
    "\n",
    "    # Extracting year, month and day from date \"became_member_on\"\n",
    "    profile_clean['became_member_on_year'] = profile_clean.became_member_on.apply(lambda x: int(str(x)[:4]))\n",
    "    profile_clean['became_member_on_month'] = profile_clean.became_member_on.apply(lambda x: int(str(x)[4:6]))\n",
    "    profile_clean['became_member_on_day'] = profile_clean.became_member_on.apply(lambda x: int(str(x)[6:]))\n",
    "\n",
    "    profile_clean.drop(['became_member_on'],axis=1,inplace=True)\n",
    "\n",
    "    # Reordering columns\n",
    "    profile_columns = ['id','age','income','gender','became_member_on_year','became_member_on_month','became_member_on_day']\n",
    "    profile_clean = profile_clean.reindex(columns=profile_columns).reset_index(drop=True)\n",
    "\n",
    "    #print(id_map_profile)\n",
    "    return profile_clean # displaying clean profile data\n",
    "\n",
    "profile_clean = clean_profile(ldf=profile)\n",
    "display(profile_clean.head())"
   ]
  },
  {
   "cell_type": "markdown",
   "metadata": {},
   "source": [
    "### Cleaning transcript data"
   ]
  },
  {
   "cell_type": "markdown",
   "metadata": {},
   "source": [
    "1. Removing all records with wrong profiles (as described above)\n",
    "2. Extracting value type and offer id from column \"value\"\n",
    "3. Extracting event - one hot encoding "
   ]
  },
  {
   "cell_type": "code",
   "execution_count": 13,
   "metadata": {},
   "outputs": [
    {
     "data": {
      "text/html": [
       "<div>\n",
       "<style scoped>\n",
       "    .dataframe tbody tr th:only-of-type {\n",
       "        vertical-align: middle;\n",
       "    }\n",
       "\n",
       "    .dataframe tbody tr th {\n",
       "        vertical-align: top;\n",
       "    }\n",
       "\n",
       "    .dataframe thead th {\n",
       "        text-align: right;\n",
       "    }\n",
       "</style>\n",
       "<table border=\"1\" class=\"dataframe\">\n",
       "  <thead>\n",
       "    <tr style=\"text-align: right;\">\n",
       "      <th></th>\n",
       "      <th>event</th>\n",
       "      <th>person</th>\n",
       "      <th>time</th>\n",
       "      <th>value</th>\n",
       "    </tr>\n",
       "  </thead>\n",
       "  <tbody>\n",
       "    <tr>\n",
       "      <th>0</th>\n",
       "      <td>offer received</td>\n",
       "      <td>78afa995795e4d85b5d9ceeca43f5fef</td>\n",
       "      <td>0</td>\n",
       "      <td>{'offer id': '9b98b8c7a33c4b65b9aebfe6a799e6d9'}</td>\n",
       "    </tr>\n",
       "    <tr>\n",
       "      <th>1</th>\n",
       "      <td>offer received</td>\n",
       "      <td>a03223e636434f42ac4c3df47e8bac43</td>\n",
       "      <td>0</td>\n",
       "      <td>{'offer id': '0b1e1539f2cc45b7b9fa7c272da2e1d7'}</td>\n",
       "    </tr>\n",
       "    <tr>\n",
       "      <th>2</th>\n",
       "      <td>offer received</td>\n",
       "      <td>e2127556f4f64592b11af22de27a7932</td>\n",
       "      <td>0</td>\n",
       "      <td>{'offer id': '2906b810c7d4411798c6938adc9daaa5'}</td>\n",
       "    </tr>\n",
       "  </tbody>\n",
       "</table>\n",
       "</div>"
      ],
      "text/plain": [
       "            event                            person  time  \\\n",
       "0  offer received  78afa995795e4d85b5d9ceeca43f5fef     0   \n",
       "1  offer received  a03223e636434f42ac4c3df47e8bac43     0   \n",
       "2  offer received  e2127556f4f64592b11af22de27a7932     0   \n",
       "\n",
       "                                              value  \n",
       "0  {'offer id': '9b98b8c7a33c4b65b9aebfe6a799e6d9'}  \n",
       "1  {'offer id': '0b1e1539f2cc45b7b9fa7c272da2e1d7'}  \n",
       "2  {'offer id': '2906b810c7d4411798c6938adc9daaa5'}  "
      ]
     },
     "metadata": {},
     "output_type": "display_data"
    },
    {
     "data": {
      "text/html": [
       "<div>\n",
       "<style scoped>\n",
       "    .dataframe tbody tr th:only-of-type {\n",
       "        vertical-align: middle;\n",
       "    }\n",
       "\n",
       "    .dataframe tbody tr th {\n",
       "        vertical-align: top;\n",
       "    }\n",
       "\n",
       "    .dataframe thead th {\n",
       "        text-align: right;\n",
       "    }\n",
       "</style>\n",
       "<table border=\"1\" class=\"dataframe\">\n",
       "  <thead>\n",
       "    <tr style=\"text-align: right;\">\n",
       "      <th></th>\n",
       "      <th>event</th>\n",
       "      <th>person</th>\n",
       "      <th>time</th>\n",
       "      <th>value</th>\n",
       "    </tr>\n",
       "  </thead>\n",
       "  <tbody>\n",
       "    <tr>\n",
       "      <th>306531</th>\n",
       "      <td>transaction</td>\n",
       "      <td>a00058cf10334a308c68e7631c529907</td>\n",
       "      <td>714</td>\n",
       "      <td>{'amount': 3.61}</td>\n",
       "    </tr>\n",
       "    <tr>\n",
       "      <th>306532</th>\n",
       "      <td>transaction</td>\n",
       "      <td>76ddbd6576844afe811f1a3c0fbb5bec</td>\n",
       "      <td>714</td>\n",
       "      <td>{'amount': 3.5300000000000002}</td>\n",
       "    </tr>\n",
       "    <tr>\n",
       "      <th>306533</th>\n",
       "      <td>transaction</td>\n",
       "      <td>c02b10e8752c4d8e9b73f918558531f7</td>\n",
       "      <td>714</td>\n",
       "      <td>{'amount': 4.05}</td>\n",
       "    </tr>\n",
       "  </tbody>\n",
       "</table>\n",
       "</div>"
      ],
      "text/plain": [
       "              event                            person  time  \\\n",
       "306531  transaction  a00058cf10334a308c68e7631c529907   714   \n",
       "306532  transaction  76ddbd6576844afe811f1a3c0fbb5bec   714   \n",
       "306533  transaction  c02b10e8752c4d8e9b73f918558531f7   714   \n",
       "\n",
       "                                 value  \n",
       "306531                {'amount': 3.61}  \n",
       "306532  {'amount': 3.5300000000000002}  \n",
       "306533                {'amount': 4.05}  "
      ]
     },
     "metadata": {},
     "output_type": "display_data"
    }
   ],
   "source": [
    "display(transcript.head(3))\n",
    "display(transcript.tail(3))"
   ]
  },
  {
   "cell_type": "code",
   "execution_count": 14,
   "metadata": {},
   "outputs": [
    {
     "data": {
      "text/plain": [
       "event     0\n",
       "person    0\n",
       "time      0\n",
       "value     0\n",
       "dtype: int64"
      ]
     },
     "execution_count": 14,
     "metadata": {},
     "output_type": "execute_result"
    }
   ],
   "source": [
    "transcript.isnull().sum() # Checking for null values"
   ]
  },
  {
   "cell_type": "code",
   "execution_count": 15,
   "metadata": {},
   "outputs": [
    {
     "data": {
      "text/html": [
       "<div>\n",
       "<style scoped>\n",
       "    .dataframe tbody tr th:only-of-type {\n",
       "        vertical-align: middle;\n",
       "    }\n",
       "\n",
       "    .dataframe tbody tr th {\n",
       "        vertical-align: top;\n",
       "    }\n",
       "\n",
       "    .dataframe thead th {\n",
       "        text-align: right;\n",
       "    }\n",
       "</style>\n",
       "<table border=\"1\" class=\"dataframe\">\n",
       "  <thead>\n",
       "    <tr style=\"text-align: right;\">\n",
       "      <th></th>\n",
       "      <th>person_id</th>\n",
       "      <th>offer_id</th>\n",
       "      <th>time</th>\n",
       "      <th>amount</th>\n",
       "      <th>event</th>\n",
       "    </tr>\n",
       "  </thead>\n",
       "  <tbody>\n",
       "    <tr>\n",
       "      <th>0</th>\n",
       "      <td>78afa995795e4d85b5d9ceeca43f5fef</td>\n",
       "      <td>9b98b8c7a33c4b65b9aebfe6a799e6d9</td>\n",
       "      <td>0</td>\n",
       "      <td>0.0</td>\n",
       "      <td>offer_received</td>\n",
       "    </tr>\n",
       "    <tr>\n",
       "      <th>1</th>\n",
       "      <td>e2127556f4f64592b11af22de27a7932</td>\n",
       "      <td>2906b810c7d4411798c6938adc9daaa5</td>\n",
       "      <td>0</td>\n",
       "      <td>0.0</td>\n",
       "      <td>offer_received</td>\n",
       "    </tr>\n",
       "    <tr>\n",
       "      <th>2</th>\n",
       "      <td>389bc3fa690240e798340f5a15918d5c</td>\n",
       "      <td>f19421c1d4aa40978ebb69ca19b0e20d</td>\n",
       "      <td>0</td>\n",
       "      <td>0.0</td>\n",
       "      <td>offer_received</td>\n",
       "    </tr>\n",
       "  </tbody>\n",
       "</table>\n",
       "</div>"
      ],
      "text/plain": [
       "                          person_id                          offer_id  time  \\\n",
       "0  78afa995795e4d85b5d9ceeca43f5fef  9b98b8c7a33c4b65b9aebfe6a799e6d9     0   \n",
       "1  e2127556f4f64592b11af22de27a7932  2906b810c7d4411798c6938adc9daaa5     0   \n",
       "2  389bc3fa690240e798340f5a15918d5c  f19421c1d4aa40978ebb69ca19b0e20d     0   \n",
       "\n",
       "   amount           event  \n",
       "0     0.0  offer_received  \n",
       "1     0.0  offer_received  \n",
       "2     0.0  offer_received  "
      ]
     },
     "metadata": {},
     "output_type": "display_data"
    },
    {
     "data": {
      "text/html": [
       "<div>\n",
       "<style scoped>\n",
       "    .dataframe tbody tr th:only-of-type {\n",
       "        vertical-align: middle;\n",
       "    }\n",
       "\n",
       "    .dataframe tbody tr th {\n",
       "        vertical-align: top;\n",
       "    }\n",
       "\n",
       "    .dataframe thead th {\n",
       "        text-align: right;\n",
       "    }\n",
       "</style>\n",
       "<table border=\"1\" class=\"dataframe\">\n",
       "  <thead>\n",
       "    <tr style=\"text-align: right;\">\n",
       "      <th></th>\n",
       "      <th>person_id</th>\n",
       "      <th>offer_id</th>\n",
       "      <th>time</th>\n",
       "      <th>amount</th>\n",
       "      <th>event</th>\n",
       "    </tr>\n",
       "  </thead>\n",
       "  <tbody>\n",
       "    <tr>\n",
       "      <th>272385</th>\n",
       "      <td>68213b08d99a4ae1b0dcb72aebd9aa35</td>\n",
       "      <td>0</td>\n",
       "      <td>714</td>\n",
       "      <td>9.53</td>\n",
       "      <td>transaction</td>\n",
       "    </tr>\n",
       "    <tr>\n",
       "      <th>272386</th>\n",
       "      <td>a00058cf10334a308c68e7631c529907</td>\n",
       "      <td>0</td>\n",
       "      <td>714</td>\n",
       "      <td>3.61</td>\n",
       "      <td>transaction</td>\n",
       "    </tr>\n",
       "    <tr>\n",
       "      <th>272387</th>\n",
       "      <td>76ddbd6576844afe811f1a3c0fbb5bec</td>\n",
       "      <td>0</td>\n",
       "      <td>714</td>\n",
       "      <td>3.53</td>\n",
       "      <td>transaction</td>\n",
       "    </tr>\n",
       "  </tbody>\n",
       "</table>\n",
       "</div>"
      ],
      "text/plain": [
       "                               person_id offer_id  time  amount        event\n",
       "272385  68213b08d99a4ae1b0dcb72aebd9aa35        0   714    9.53  transaction\n",
       "272386  a00058cf10334a308c68e7631c529907        0   714    3.61  transaction\n",
       "272387  76ddbd6576844afe811f1a3c0fbb5bec        0   714    3.53  transaction"
      ]
     },
     "metadata": {},
     "output_type": "display_data"
    }
   ],
   "source": [
    "# Function to clean transcript data\n",
    "def clean_transcript(ldf):\n",
    "\n",
    "    transcript_clean = ldf.copy()\n",
    "\n",
    "    # extracting offer type ('offer id', 'amount') and value \n",
    "\n",
    "    transcript_clean['value_type'] = transcript_clean.value.apply(lambda x: list(x.keys())[0])\n",
    "    transcript_clean['value_val'] = transcript_clean.value.apply(lambda x: x[list(x.keys())[0]])\n",
    "    transcript_clean.replace(\"offer id\", \"offer_id\",inplace=True)\n",
    "\n",
    "    amounts, offers = [], []\n",
    "\n",
    "    for ind in range(transcript_clean.shape[0]):\n",
    "        if transcript_clean.value_type.iat[ind] == 'amount':\n",
    "            amounts.append(transcript_clean.value_val.iat[ind])\n",
    "            offers.append(\"0\") # dummy value for unlabelled offer id\n",
    "        else:\n",
    "            amounts.append(0.0)\n",
    "            offers.append(transcript_clean.value_val.iat[ind])\n",
    "\n",
    "    transcript_clean['offer_id'] = offers\n",
    "    transcript_clean['amount'] = amounts\n",
    "    transcript_clean['person_id'] = transcript_clean['person']\n",
    "\n",
    "    transcript_clean = transcript_clean[~transcript_clean.person_id.isin(list(wrong_profile_ids))]\n",
    "\n",
    "\n",
    "    transcript_clean.replace('offer received', 'offer_received',inplace=True)\n",
    "    transcript_clean.replace('offer viewed', 'offer_viewed',inplace=True)\n",
    "    transcript_clean.replace('offer completed', 'offer_completed',inplace=True)\n",
    "\n",
    "\n",
    "    # Removing irrelevant columns\n",
    "    transcript_clean.drop(['person','value','value_type','value_val'],axis=1,inplace=True)\n",
    "    \n",
    "    # Removing duplicates\n",
    "    transcript_clean = transcript_clean.drop_duplicates()\n",
    "    \n",
    "    # Reordering columns\n",
    "    columns = ['person_id','offer_id','time','amount','event']\n",
    "    transcript_clean = transcript_clean.reindex(columns=columns).reset_index(drop=True)\n",
    "\n",
    "    return transcript_clean # displaying clean transcript data\n",
    "\n",
    "transcript_clean = clean_transcript(ldf=transcript)\n",
    "display(transcript_clean.head(3))\n",
    "display(transcript_clean.tail(3))"
   ]
  },
  {
   "cell_type": "markdown",
   "metadata": {},
   "source": [
    "### Merging transcript, profile and portfolio data"
   ]
  },
  {
   "cell_type": "markdown",
   "metadata": {},
   "source": [
    "1. Split transcript data into transactions (df_transaction), received offers (df_offer_received), viewed offers (df_offer_viewed) and completed offers (df_offer_completed)\n",
    "2. Combining transactions, received offers, viewed offers and completed offers logically\n",
    "3. Computing the success flag indicating the response of the user to the offer"
   ]
  },
  {
   "cell_type": "markdown",
   "metadata": {},
   "source": [
    "#### Extracting  transactions"
   ]
  },
  {
   "cell_type": "code",
   "execution_count": 16,
   "metadata": {},
   "outputs": [
    {
     "data": {
      "text/html": [
       "<div>\n",
       "<style scoped>\n",
       "    .dataframe tbody tr th:only-of-type {\n",
       "        vertical-align: middle;\n",
       "    }\n",
       "\n",
       "    .dataframe tbody tr th {\n",
       "        vertical-align: top;\n",
       "    }\n",
       "\n",
       "    .dataframe thead th {\n",
       "        text-align: right;\n",
       "    }\n",
       "</style>\n",
       "<table border=\"1\" class=\"dataframe\">\n",
       "  <thead>\n",
       "    <tr style=\"text-align: right;\">\n",
       "      <th></th>\n",
       "      <th>person_id</th>\n",
       "      <th>offer_id</th>\n",
       "      <th>time</th>\n",
       "      <th>amount</th>\n",
       "    </tr>\n",
       "  </thead>\n",
       "  <tbody>\n",
       "    <tr>\n",
       "      <th>0</th>\n",
       "      <td>02c083884c7d45b39cc68e1314fec56c</td>\n",
       "      <td>0</td>\n",
       "      <td>0</td>\n",
       "      <td>0.83</td>\n",
       "    </tr>\n",
       "    <tr>\n",
       "      <th>1</th>\n",
       "      <td>9fa9ae8f57894cc9a3b8a9bbe0fc1b2f</td>\n",
       "      <td>0</td>\n",
       "      <td>0</td>\n",
       "      <td>34.56</td>\n",
       "    </tr>\n",
       "    <tr>\n",
       "      <th>2</th>\n",
       "      <td>54890f68699049c2a04d415abc25e717</td>\n",
       "      <td>0</td>\n",
       "      <td>0</td>\n",
       "      <td>13.23</td>\n",
       "    </tr>\n",
       "  </tbody>\n",
       "</table>\n",
       "</div>"
      ],
      "text/plain": [
       "                          person_id offer_id  time  amount\n",
       "0  02c083884c7d45b39cc68e1314fec56c        0     0    0.83\n",
       "1  9fa9ae8f57894cc9a3b8a9bbe0fc1b2f        0     0   34.56\n",
       "2  54890f68699049c2a04d415abc25e717        0     0   13.23"
      ]
     },
     "metadata": {},
     "output_type": "display_data"
    },
    {
     "data": {
      "text/html": [
       "<div>\n",
       "<style scoped>\n",
       "    .dataframe tbody tr th:only-of-type {\n",
       "        vertical-align: middle;\n",
       "    }\n",
       "\n",
       "    .dataframe tbody tr th {\n",
       "        vertical-align: top;\n",
       "    }\n",
       "\n",
       "    .dataframe thead th {\n",
       "        text-align: right;\n",
       "    }\n",
       "</style>\n",
       "<table border=\"1\" class=\"dataframe\">\n",
       "  <thead>\n",
       "    <tr style=\"text-align: right;\">\n",
       "      <th></th>\n",
       "      <th>person_id</th>\n",
       "      <th>offer_id</th>\n",
       "      <th>time</th>\n",
       "      <th>amount</th>\n",
       "    </tr>\n",
       "  </thead>\n",
       "  <tbody>\n",
       "    <tr>\n",
       "      <th>123954</th>\n",
       "      <td>68213b08d99a4ae1b0dcb72aebd9aa35</td>\n",
       "      <td>0</td>\n",
       "      <td>714</td>\n",
       "      <td>9.53</td>\n",
       "    </tr>\n",
       "    <tr>\n",
       "      <th>123955</th>\n",
       "      <td>a00058cf10334a308c68e7631c529907</td>\n",
       "      <td>0</td>\n",
       "      <td>714</td>\n",
       "      <td>3.61</td>\n",
       "    </tr>\n",
       "    <tr>\n",
       "      <th>123956</th>\n",
       "      <td>76ddbd6576844afe811f1a3c0fbb5bec</td>\n",
       "      <td>0</td>\n",
       "      <td>714</td>\n",
       "      <td>3.53</td>\n",
       "    </tr>\n",
       "  </tbody>\n",
       "</table>\n",
       "</div>"
      ],
      "text/plain": [
       "                               person_id offer_id  time  amount\n",
       "123954  68213b08d99a4ae1b0dcb72aebd9aa35        0   714    9.53\n",
       "123955  a00058cf10334a308c68e7631c529907        0   714    3.61\n",
       "123956  76ddbd6576844afe811f1a3c0fbb5bec        0   714    3.53"
      ]
     },
     "metadata": {},
     "output_type": "display_data"
    },
    {
     "name": "stdout",
     "output_type": "stream",
     "text": [
      "shape: (123957, 4)\n"
     ]
    }
   ],
   "source": [
    "# Extracting  transactions\n",
    "df_transaction = transcript_clean[transcript_clean.event.isin(['transaction'])][['person_id','offer_id','time','amount']]\n",
    "df_transaction = df_transaction.drop_duplicates()# Removing duplicates\n",
    "df_transaction = df_transaction.reset_index(drop=True)\n",
    "display(df_transaction.head(3)) # display head\n",
    "display(df_transaction.tail(3)) # display tail\n",
    "print(\"shape:\",df_transaction.shape)"
   ]
  },
  {
   "cell_type": "markdown",
   "metadata": {},
   "source": [
    "#### Extracting completed offers"
   ]
  },
  {
   "cell_type": "code",
   "execution_count": 17,
   "metadata": {},
   "outputs": [
    {
     "data": {
      "text/html": [
       "<div>\n",
       "<style scoped>\n",
       "    .dataframe tbody tr th:only-of-type {\n",
       "        vertical-align: middle;\n",
       "    }\n",
       "\n",
       "    .dataframe tbody tr th {\n",
       "        vertical-align: top;\n",
       "    }\n",
       "\n",
       "    .dataframe thead th {\n",
       "        text-align: right;\n",
       "    }\n",
       "</style>\n",
       "<table border=\"1\" class=\"dataframe\">\n",
       "  <thead>\n",
       "    <tr style=\"text-align: right;\">\n",
       "      <th></th>\n",
       "      <th>person_id</th>\n",
       "      <th>offer_id</th>\n",
       "      <th>time</th>\n",
       "      <th>event</th>\n",
       "    </tr>\n",
       "  </thead>\n",
       "  <tbody>\n",
       "    <tr>\n",
       "      <th>0</th>\n",
       "      <td>9fa9ae8f57894cc9a3b8a9bbe0fc1b2f</td>\n",
       "      <td>2906b810c7d4411798c6938adc9daaa5</td>\n",
       "      <td>0</td>\n",
       "      <td>offer_completed</td>\n",
       "    </tr>\n",
       "    <tr>\n",
       "      <th>1</th>\n",
       "      <td>fe97aa22dd3e48c8b143116a8403dd52</td>\n",
       "      <td>fafdcd668e3743c1bb461111dcafc2a4</td>\n",
       "      <td>0</td>\n",
       "      <td>offer_completed</td>\n",
       "    </tr>\n",
       "    <tr>\n",
       "      <th>2</th>\n",
       "      <td>629fc02d56414d91bca360decdfa9288</td>\n",
       "      <td>9b98b8c7a33c4b65b9aebfe6a799e6d9</td>\n",
       "      <td>0</td>\n",
       "      <td>offer_completed</td>\n",
       "    </tr>\n",
       "  </tbody>\n",
       "</table>\n",
       "</div>"
      ],
      "text/plain": [
       "                          person_id                          offer_id  time  \\\n",
       "0  9fa9ae8f57894cc9a3b8a9bbe0fc1b2f  2906b810c7d4411798c6938adc9daaa5     0   \n",
       "1  fe97aa22dd3e48c8b143116a8403dd52  fafdcd668e3743c1bb461111dcafc2a4     0   \n",
       "2  629fc02d56414d91bca360decdfa9288  9b98b8c7a33c4b65b9aebfe6a799e6d9     0   \n",
       "\n",
       "             event  \n",
       "0  offer_completed  \n",
       "1  offer_completed  \n",
       "2  offer_completed  "
      ]
     },
     "metadata": {},
     "output_type": "display_data"
    },
    {
     "data": {
      "text/html": [
       "<div>\n",
       "<style scoped>\n",
       "    .dataframe tbody tr th:only-of-type {\n",
       "        vertical-align: middle;\n",
       "    }\n",
       "\n",
       "    .dataframe tbody tr th {\n",
       "        vertical-align: top;\n",
       "    }\n",
       "\n",
       "    .dataframe thead th {\n",
       "        text-align: right;\n",
       "    }\n",
       "</style>\n",
       "<table border=\"1\" class=\"dataframe\">\n",
       "  <thead>\n",
       "    <tr style=\"text-align: right;\">\n",
       "      <th></th>\n",
       "      <th>person_id</th>\n",
       "      <th>offer_id</th>\n",
       "      <th>time</th>\n",
       "      <th>event</th>\n",
       "    </tr>\n",
       "  </thead>\n",
       "  <tbody>\n",
       "    <tr>\n",
       "      <th>32067</th>\n",
       "      <td>0c027f5f34dd4b9eba0a25785c611273</td>\n",
       "      <td>2298d6c36e964ae4a3e7e9706d1fb8c2</td>\n",
       "      <td>714</td>\n",
       "      <td>offer_completed</td>\n",
       "    </tr>\n",
       "    <tr>\n",
       "      <th>32068</th>\n",
       "      <td>8431c16f8e1d440880db371a68f82dd0</td>\n",
       "      <td>fafdcd668e3743c1bb461111dcafc2a4</td>\n",
       "      <td>714</td>\n",
       "      <td>offer_completed</td>\n",
       "    </tr>\n",
       "    <tr>\n",
       "      <th>32069</th>\n",
       "      <td>24f56b5e1849462093931b164eb803b5</td>\n",
       "      <td>fafdcd668e3743c1bb461111dcafc2a4</td>\n",
       "      <td>714</td>\n",
       "      <td>offer_completed</td>\n",
       "    </tr>\n",
       "  </tbody>\n",
       "</table>\n",
       "</div>"
      ],
      "text/plain": [
       "                              person_id                          offer_id  \\\n",
       "32067  0c027f5f34dd4b9eba0a25785c611273  2298d6c36e964ae4a3e7e9706d1fb8c2   \n",
       "32068  8431c16f8e1d440880db371a68f82dd0  fafdcd668e3743c1bb461111dcafc2a4   \n",
       "32069  24f56b5e1849462093931b164eb803b5  fafdcd668e3743c1bb461111dcafc2a4   \n",
       "\n",
       "       time            event  \n",
       "32067   714  offer_completed  \n",
       "32068   714  offer_completed  \n",
       "32069   714  offer_completed  "
      ]
     },
     "metadata": {},
     "output_type": "display_data"
    },
    {
     "name": "stdout",
     "output_type": "stream",
     "text": [
      "shape: (32070, 4)\n"
     ]
    }
   ],
   "source": [
    "# Extracting completed offers\n",
    "df_offer_completed = transcript_clean[transcript_clean.event.isin(['offer_completed','offer completed'])][['person_id','offer_id','time','event']]\n",
    "df_offer_completed = df_offer_completed.drop_duplicates() # Removing duplicates\n",
    "df_offer_completed = df_offer_completed.reset_index(drop=True)\n",
    "display(df_offer_completed.head(3)) # display head\n",
    "display(df_offer_completed.tail(3)) # display tail\n",
    "print(\"shape:\",df_offer_completed.shape)  "
   ]
  },
  {
   "cell_type": "markdown",
   "metadata": {},
   "source": [
    "#### Extracting viewed offers"
   ]
  },
  {
   "cell_type": "code",
   "execution_count": 18,
   "metadata": {},
   "outputs": [
    {
     "data": {
      "text/html": [
       "<div>\n",
       "<style scoped>\n",
       "    .dataframe tbody tr th:only-of-type {\n",
       "        vertical-align: middle;\n",
       "    }\n",
       "\n",
       "    .dataframe tbody tr th {\n",
       "        vertical-align: top;\n",
       "    }\n",
       "\n",
       "    .dataframe thead th {\n",
       "        text-align: right;\n",
       "    }\n",
       "</style>\n",
       "<table border=\"1\" class=\"dataframe\">\n",
       "  <thead>\n",
       "    <tr style=\"text-align: right;\">\n",
       "      <th></th>\n",
       "      <th>person_id</th>\n",
       "      <th>offer_id</th>\n",
       "      <th>time</th>\n",
       "      <th>event</th>\n",
       "    </tr>\n",
       "  </thead>\n",
       "  <tbody>\n",
       "    <tr>\n",
       "      <th>0</th>\n",
       "      <td>389bc3fa690240e798340f5a15918d5c</td>\n",
       "      <td>f19421c1d4aa40978ebb69ca19b0e20d</td>\n",
       "      <td>0</td>\n",
       "      <td>offer_viewed</td>\n",
       "    </tr>\n",
       "    <tr>\n",
       "      <th>1</th>\n",
       "      <td>d1ede868e29245ea91818a903fec04c6</td>\n",
       "      <td>5a8bc65990b245e5a138643cd4eb9837</td>\n",
       "      <td>0</td>\n",
       "      <td>offer_viewed</td>\n",
       "    </tr>\n",
       "    <tr>\n",
       "      <th>2</th>\n",
       "      <td>102e9454054946fda62242d2e176fdce</td>\n",
       "      <td>4d5c57ea9a6940dd891ad53e9dbe8da0</td>\n",
       "      <td>0</td>\n",
       "      <td>offer_viewed</td>\n",
       "    </tr>\n",
       "  </tbody>\n",
       "</table>\n",
       "</div>"
      ],
      "text/plain": [
       "                          person_id                          offer_id  time  \\\n",
       "0  389bc3fa690240e798340f5a15918d5c  f19421c1d4aa40978ebb69ca19b0e20d     0   \n",
       "1  d1ede868e29245ea91818a903fec04c6  5a8bc65990b245e5a138643cd4eb9837     0   \n",
       "2  102e9454054946fda62242d2e176fdce  4d5c57ea9a6940dd891ad53e9dbe8da0     0   \n",
       "\n",
       "          event  \n",
       "0  offer_viewed  \n",
       "1  offer_viewed  \n",
       "2  offer_viewed  "
      ]
     },
     "metadata": {},
     "output_type": "display_data"
    },
    {
     "data": {
      "text/html": [
       "<div>\n",
       "<style scoped>\n",
       "    .dataframe tbody tr th:only-of-type {\n",
       "        vertical-align: middle;\n",
       "    }\n",
       "\n",
       "    .dataframe tbody tr th {\n",
       "        vertical-align: top;\n",
       "    }\n",
       "\n",
       "    .dataframe thead th {\n",
       "        text-align: right;\n",
       "    }\n",
       "</style>\n",
       "<table border=\"1\" class=\"dataframe\">\n",
       "  <thead>\n",
       "    <tr style=\"text-align: right;\">\n",
       "      <th></th>\n",
       "      <th>person_id</th>\n",
       "      <th>offer_id</th>\n",
       "      <th>time</th>\n",
       "      <th>event</th>\n",
       "    </tr>\n",
       "  </thead>\n",
       "  <tbody>\n",
       "    <tr>\n",
       "      <th>49857</th>\n",
       "      <td>84fb57a7fe8045a8bf6236738ee73a0f</td>\n",
       "      <td>5a8bc65990b245e5a138643cd4eb9837</td>\n",
       "      <td>714</td>\n",
       "      <td>offer_viewed</td>\n",
       "    </tr>\n",
       "    <tr>\n",
       "      <th>49858</th>\n",
       "      <td>abc4359eb34e4e2ca2349da2ddf771b6</td>\n",
       "      <td>3f207df678b143eea3cee63160fa8bed</td>\n",
       "      <td>714</td>\n",
       "      <td>offer_viewed</td>\n",
       "    </tr>\n",
       "    <tr>\n",
       "      <th>49859</th>\n",
       "      <td>8dda575c2a1d44b9ac8e8b07b93d1f8e</td>\n",
       "      <td>0b1e1539f2cc45b7b9fa7c272da2e1d7</td>\n",
       "      <td>714</td>\n",
       "      <td>offer_viewed</td>\n",
       "    </tr>\n",
       "  </tbody>\n",
       "</table>\n",
       "</div>"
      ],
      "text/plain": [
       "                              person_id                          offer_id  \\\n",
       "49857  84fb57a7fe8045a8bf6236738ee73a0f  5a8bc65990b245e5a138643cd4eb9837   \n",
       "49858  abc4359eb34e4e2ca2349da2ddf771b6  3f207df678b143eea3cee63160fa8bed   \n",
       "49859  8dda575c2a1d44b9ac8e8b07b93d1f8e  0b1e1539f2cc45b7b9fa7c272da2e1d7   \n",
       "\n",
       "       time         event  \n",
       "49857   714  offer_viewed  \n",
       "49858   714  offer_viewed  \n",
       "49859   714  offer_viewed  "
      ]
     },
     "metadata": {},
     "output_type": "display_data"
    },
    {
     "name": "stdout",
     "output_type": "stream",
     "text": [
      "shape: (49860, 4)\n"
     ]
    }
   ],
   "source": [
    "# Extracting viewed offers\n",
    "df_offer_viewed = transcript_clean[transcript_clean.event.isin(['offer_viewed','offer viewed'])][['person_id','offer_id','time','event']]\n",
    "df_offer_viewed = df_offer_viewed.drop_duplicates() # Removing duplicates\n",
    "df_offer_viewed = df_offer_viewed.reset_index(drop=True) \n",
    "display(df_offer_viewed.head(3)) # display head\n",
    "display(df_offer_viewed.tail(3)) # display tail\n",
    "print(\"shape:\",df_offer_viewed.shape) "
   ]
  },
  {
   "cell_type": "code",
   "execution_count": 19,
   "metadata": {},
   "outputs": [
    {
     "data": {
      "text/plain": [
       "(49860, 4)"
      ]
     },
     "execution_count": 19,
     "metadata": {},
     "output_type": "execute_result"
    }
   ],
   "source": [
    "df_offer_viewed = df_offer_viewed.drop_duplicates()\n",
    "df_offer_viewed.shape"
   ]
  },
  {
   "cell_type": "markdown",
   "metadata": {},
   "source": [
    "#### Extracting received offers"
   ]
  },
  {
   "cell_type": "code",
   "execution_count": 20,
   "metadata": {},
   "outputs": [
    {
     "data": {
      "text/html": [
       "<div>\n",
       "<style scoped>\n",
       "    .dataframe tbody tr th:only-of-type {\n",
       "        vertical-align: middle;\n",
       "    }\n",
       "\n",
       "    .dataframe tbody tr th {\n",
       "        vertical-align: top;\n",
       "    }\n",
       "\n",
       "    .dataframe thead th {\n",
       "        text-align: right;\n",
       "    }\n",
       "</style>\n",
       "<table border=\"1\" class=\"dataframe\">\n",
       "  <thead>\n",
       "    <tr style=\"text-align: right;\">\n",
       "      <th></th>\n",
       "      <th>person_id</th>\n",
       "      <th>offer_id</th>\n",
       "      <th>time</th>\n",
       "      <th>event</th>\n",
       "    </tr>\n",
       "  </thead>\n",
       "  <tbody>\n",
       "    <tr>\n",
       "      <th>0</th>\n",
       "      <td>78afa995795e4d85b5d9ceeca43f5fef</td>\n",
       "      <td>9b98b8c7a33c4b65b9aebfe6a799e6d9</td>\n",
       "      <td>0</td>\n",
       "      <td>offer_received</td>\n",
       "    </tr>\n",
       "    <tr>\n",
       "      <th>1</th>\n",
       "      <td>e2127556f4f64592b11af22de27a7932</td>\n",
       "      <td>2906b810c7d4411798c6938adc9daaa5</td>\n",
       "      <td>0</td>\n",
       "      <td>offer_received</td>\n",
       "    </tr>\n",
       "    <tr>\n",
       "      <th>2</th>\n",
       "      <td>389bc3fa690240e798340f5a15918d5c</td>\n",
       "      <td>f19421c1d4aa40978ebb69ca19b0e20d</td>\n",
       "      <td>0</td>\n",
       "      <td>offer_received</td>\n",
       "    </tr>\n",
       "  </tbody>\n",
       "</table>\n",
       "</div>"
      ],
      "text/plain": [
       "                          person_id                          offer_id  time  \\\n",
       "0  78afa995795e4d85b5d9ceeca43f5fef  9b98b8c7a33c4b65b9aebfe6a799e6d9     0   \n",
       "1  e2127556f4f64592b11af22de27a7932  2906b810c7d4411798c6938adc9daaa5     0   \n",
       "2  389bc3fa690240e798340f5a15918d5c  f19421c1d4aa40978ebb69ca19b0e20d     0   \n",
       "\n",
       "            event  \n",
       "0  offer_received  \n",
       "1  offer_received  \n",
       "2  offer_received  "
      ]
     },
     "metadata": {},
     "output_type": "display_data"
    },
    {
     "data": {
      "text/html": [
       "<div>\n",
       "<style scoped>\n",
       "    .dataframe tbody tr th:only-of-type {\n",
       "        vertical-align: middle;\n",
       "    }\n",
       "\n",
       "    .dataframe tbody tr th {\n",
       "        vertical-align: top;\n",
       "    }\n",
       "\n",
       "    .dataframe thead th {\n",
       "        text-align: right;\n",
       "    }\n",
       "</style>\n",
       "<table border=\"1\" class=\"dataframe\">\n",
       "  <thead>\n",
       "    <tr style=\"text-align: right;\">\n",
       "      <th></th>\n",
       "      <th>person_id</th>\n",
       "      <th>offer_id</th>\n",
       "      <th>time</th>\n",
       "      <th>event</th>\n",
       "    </tr>\n",
       "  </thead>\n",
       "  <tbody>\n",
       "    <tr>\n",
       "      <th>66498</th>\n",
       "      <td>6d5f3a774f3d4714ab0c092238f3a1d7</td>\n",
       "      <td>2298d6c36e964ae4a3e7e9706d1fb8c2</td>\n",
       "      <td>576</td>\n",
       "      <td>offer_received</td>\n",
       "    </tr>\n",
       "    <tr>\n",
       "      <th>66499</th>\n",
       "      <td>9dc1421481194dcd9400aec7c9ae6366</td>\n",
       "      <td>ae264e3637204a6fb9bb56bc8210ddfd</td>\n",
       "      <td>576</td>\n",
       "      <td>offer_received</td>\n",
       "    </tr>\n",
       "    <tr>\n",
       "      <th>66500</th>\n",
       "      <td>e4052622e5ba45a8b96b59aba68cf068</td>\n",
       "      <td>3f207df678b143eea3cee63160fa8bed</td>\n",
       "      <td>576</td>\n",
       "      <td>offer_received</td>\n",
       "    </tr>\n",
       "  </tbody>\n",
       "</table>\n",
       "</div>"
      ],
      "text/plain": [
       "                              person_id                          offer_id  \\\n",
       "66498  6d5f3a774f3d4714ab0c092238f3a1d7  2298d6c36e964ae4a3e7e9706d1fb8c2   \n",
       "66499  9dc1421481194dcd9400aec7c9ae6366  ae264e3637204a6fb9bb56bc8210ddfd   \n",
       "66500  e4052622e5ba45a8b96b59aba68cf068  3f207df678b143eea3cee63160fa8bed   \n",
       "\n",
       "       time           event  \n",
       "66498   576  offer_received  \n",
       "66499   576  offer_received  \n",
       "66500   576  offer_received  "
      ]
     },
     "metadata": {},
     "output_type": "display_data"
    },
    {
     "name": "stdout",
     "output_type": "stream",
     "text": [
      "shape: (66501, 4)\n"
     ]
    }
   ],
   "source": [
    "# Extracting received offers\n",
    "df_offer_received = transcript_clean[transcript_clean.event.isin(['offer_received','offer received'])][['person_id','offer_id','time','event']]\n",
    "df_offer_received = df_offer_received.drop_duplicates() # Removing duplicates\n",
    "df_offer_received = df_offer_received.reset_index(drop=True) \n",
    "display(df_offer_received.head(3)) # display head\n",
    "display(df_offer_received.tail(3)) # display tail\n",
    "print(\"shape:\",df_offer_received.shape) "
   ]
  },
  {
   "cell_type": "markdown",
   "metadata": {},
   "source": [
    "#### Merge Data Function"
   ]
  },
  {
   "cell_type": "markdown",
   "metadata": {},
   "source": [
    "The following function merges transactions, received offers, viewed offers and completed offers logically with portfolio and profile data.\n",
    "\n",
    "Received, viewed and completed offer records are merged if they are in the same offer valid duration from portfolio data. The 3 records have to be consistent. This means that the offer is viewed before completion. \n",
    "\n",
    "***Caution:*** It takes arround 40 minutes runtime (for processing received 66501 interactions records)"
   ]
  },
  {
   "cell_type": "code",
   "execution_count": 21,
   "metadata": {},
   "outputs": [],
   "source": [
    "# Merge transactions, received offers, viewed offers and completed offers logically\n",
    "\n",
    "def merge_data_logically(portfolio_clean, profile_clean, df_transaction, df_offer_completed, df_offer_viewed, df_offer_received,pid=0):\n",
    "           \n",
    "    success_flag, amount = [], []\n",
    "\n",
    "    start_run = time.time()\n",
    "    \n",
    "    for ind in range(df_offer_received.shape[0]):\n",
    "\n",
    "        p_id = df_offer_received.person_id.iat[ind]\n",
    "        o_id = df_offer_received.offer_id.iat[ind]\n",
    "\n",
    "        # Combining data in the same validity period (duration)\n",
    "\n",
    "        start_time = df_offer_received.time.iat[ind]\n",
    "        o_days = portfolio_clean[portfolio_clean.id == o_id].duration.iat[0]\n",
    "        end_time = start_time + 24.0*o_days # end time in hours\n",
    "        \n",
    "        success_flag.append(\"No\")\n",
    "        \n",
    "        df_viewed = df_offer_viewed[(df_offer_viewed.person_id==p_id) & \n",
    "                                    (df_offer_viewed.offer_id==o_id) & \n",
    "                                    (df_offer_viewed.time >= start_time) &\n",
    "                                    (df_offer_viewed.time <= end_time+1.0)]\n",
    "                                    \n",
    "        ldf_transaction = df_transaction[(df_transaction.person_id==p_id) & \n",
    "                                          (df_transaction.time >= start_time) &\n",
    "                                          (df_transaction.time < end_time+1.0)]\n",
    "                                          \n",
    "        amount.append(ldf_transaction['amount'].sum())\n",
    "        \n",
    "        if df_viewed.shape[0] == 0:\n",
    "                       \n",
    "            if (ind % 500) == 0:\n",
    "                clear_output(wait=True)\n",
    "                print(\"Combining record {:d} of {:d} ...process: {:d}\".format(ind+1,df_offer_received.shape[0],pid))   # use display(f) if you encounter performance issues\n",
    "\n",
    "            continue \n",
    "            \n",
    "        df_completed = df_offer_completed[(df_offer_completed.person_id==p_id) & \n",
    "                                          (df_offer_completed.offer_id==o_id) & \n",
    "                                          (df_offer_completed.time >= start_time) &\n",
    "                                          (df_offer_completed.time < end_time+1.0)]\n",
    "\n",
    "        offer_type_value = portfolio_clean[portfolio_clean.id == o_id].offer_type.iat[0]\n",
    "       \n",
    "        if df_completed.shape[0] != 0:\n",
    "\n",
    "            success_flag[-1] = \"Yes\"\n",
    "                \n",
    "        if ldf_transaction.shape[0] != 0:\n",
    "            if amount[-1] > 0.0 and offer_type_value == 'informational':\n",
    "                success_flag[-1] = \"Yes\"         \n",
    "            \n",
    "        \n",
    "        if (ind % 500) == 0 or (ind+1 == df_offer_received.shape[0]):\n",
    "            clear_output(wait=True)\n",
    "            print(\"Combining record {:d} of {:d} ...process: {:d}\".format(ind+1,df_offer_received.shape[0],pid))  # use display(f) if you encounter performance issues\n",
    "\n",
    "    # Putting all together \n",
    "    \n",
    "    df_all_offers = df_offer_received.copy()\n",
    "    df_all_offers['amount'] = amount\n",
    "    df_all_offers['success_flag'] = success_flag\n",
    "    \n",
    "    end_run = time.time()\n",
    "    print(\"{:d} minutes {:d} seconds\".format(int((end_run-start_run)/60.0), int(end_run-start_run) % 60))\n",
    "    \n",
    "    df_all_offers.to_csv(\"data/combined_data_{}.csv\".format(pid),index=False)\n",
    "    \n",
    "    return df_all_offers\n",
    "\n"
   ]
  },
  {
   "cell_type": "code",
   "execution_count": 22,
   "metadata": {},
   "outputs": [
    {
     "name": "stdout",
     "output_type": "stream",
     "text": [
      "Combining record 66501 of 66501 ...process: 0\n",
      "49 minutes 17 seconds\n"
     ]
    }
   ],
   "source": [
    "###################### Saving the clean data into filesystem ###################################################\n",
    "\n",
    "dfs = [portfolio_clean, profile_clean,df_transaction, df_offer_completed, df_offer_viewed, df_offer_received]\n",
    "file_names = ['portfolio_clean', 'profile_clean','df_transaction', 'df_offer_completed', 'df_offer_viewed', 'df_offer_received']\n",
    "\n",
    "for i in range(len(dfs)):\n",
    "    dfs[i].to_csv(\"data/{}.csv\".format(file_names[i]),index=False)\n",
    "    \n",
    "print(\"\\nSaving clean data into files done...\")\n",
    "\n",
    "############### Running data combination using the function \"merge_data_logically\" ##############################\n",
    "\n",
    "merged_df = merge_data_logically(portfolio_clean, profile_clean, df_transaction, df_offer_completed, df_offer_viewed, df_offer_received)\n",
    "   \n",
    "#!python Multiprocess.py\n",
    "\n",
    "################################################################################################################\n"
   ]
  },
  {
   "cell_type": "code",
   "execution_count": 23,
   "metadata": {},
   "outputs": [
    {
     "data": {
      "text/html": [
       "<div>\n",
       "<style scoped>\n",
       "    .dataframe tbody tr th:only-of-type {\n",
       "        vertical-align: middle;\n",
       "    }\n",
       "\n",
       "    .dataframe tbody tr th {\n",
       "        vertical-align: top;\n",
       "    }\n",
       "\n",
       "    .dataframe thead th {\n",
       "        text-align: right;\n",
       "    }\n",
       "</style>\n",
       "<table border=\"1\" class=\"dataframe\">\n",
       "  <thead>\n",
       "    <tr style=\"text-align: right;\">\n",
       "      <th></th>\n",
       "      <th>person_id</th>\n",
       "      <th>offer_id</th>\n",
       "      <th>amount</th>\n",
       "      <th>success_flag</th>\n",
       "      <th>difficulty</th>\n",
       "      <th>duration</th>\n",
       "      <th>reward</th>\n",
       "      <th>channel_mobile</th>\n",
       "      <th>channel_email</th>\n",
       "      <th>channel_social</th>\n",
       "      <th>channel_web</th>\n",
       "      <th>offer_type</th>\n",
       "      <th>age</th>\n",
       "      <th>income</th>\n",
       "      <th>gender</th>\n",
       "      <th>became_member_on_year</th>\n",
       "      <th>became_member_on_month</th>\n",
       "    </tr>\n",
       "  </thead>\n",
       "  <tbody>\n",
       "    <tr>\n",
       "      <th>0</th>\n",
       "      <td>78afa995795e4d85b5d9ceeca43f5fef</td>\n",
       "      <td>9b98b8c7a33c4b65b9aebfe6a799e6d9</td>\n",
       "      <td>37.67</td>\n",
       "      <td>Yes</td>\n",
       "      <td>5</td>\n",
       "      <td>7</td>\n",
       "      <td>5</td>\n",
       "      <td>1</td>\n",
       "      <td>1</td>\n",
       "      <td>0</td>\n",
       "      <td>1</td>\n",
       "      <td>bogo</td>\n",
       "      <td>75</td>\n",
       "      <td>100000.0</td>\n",
       "      <td>F</td>\n",
       "      <td>2017</td>\n",
       "      <td>5</td>\n",
       "    </tr>\n",
       "    <tr>\n",
       "      <th>1</th>\n",
       "      <td>78afa995795e4d85b5d9ceeca43f5fef</td>\n",
       "      <td>f19421c1d4aa40978ebb69ca19b0e20d</td>\n",
       "      <td>48.28</td>\n",
       "      <td>Yes</td>\n",
       "      <td>5</td>\n",
       "      <td>5</td>\n",
       "      <td>5</td>\n",
       "      <td>1</td>\n",
       "      <td>1</td>\n",
       "      <td>1</td>\n",
       "      <td>1</td>\n",
       "      <td>bogo</td>\n",
       "      <td>75</td>\n",
       "      <td>100000.0</td>\n",
       "      <td>F</td>\n",
       "      <td>2017</td>\n",
       "      <td>5</td>\n",
       "    </tr>\n",
       "    <tr>\n",
       "      <th>2</th>\n",
       "      <td>78afa995795e4d85b5d9ceeca43f5fef</td>\n",
       "      <td>ae264e3637204a6fb9bb56bc8210ddfd</td>\n",
       "      <td>48.28</td>\n",
       "      <td>Yes</td>\n",
       "      <td>10</td>\n",
       "      <td>7</td>\n",
       "      <td>10</td>\n",
       "      <td>1</td>\n",
       "      <td>1</td>\n",
       "      <td>1</td>\n",
       "      <td>0</td>\n",
       "      <td>bogo</td>\n",
       "      <td>75</td>\n",
       "      <td>100000.0</td>\n",
       "      <td>F</td>\n",
       "      <td>2017</td>\n",
       "      <td>5</td>\n",
       "    </tr>\n",
       "    <tr>\n",
       "      <th>3</th>\n",
       "      <td>78afa995795e4d85b5d9ceeca43f5fef</td>\n",
       "      <td>5a8bc65990b245e5a138643cd4eb9837</td>\n",
       "      <td>49.39</td>\n",
       "      <td>Yes</td>\n",
       "      <td>0</td>\n",
       "      <td>3</td>\n",
       "      <td>0</td>\n",
       "      <td>1</td>\n",
       "      <td>1</td>\n",
       "      <td>1</td>\n",
       "      <td>0</td>\n",
       "      <td>informational</td>\n",
       "      <td>75</td>\n",
       "      <td>100000.0</td>\n",
       "      <td>F</td>\n",
       "      <td>2017</td>\n",
       "      <td>5</td>\n",
       "    </tr>\n",
       "    <tr>\n",
       "      <th>4</th>\n",
       "      <td>ebe7ef46ea6f4963a7dd49f501b26779</td>\n",
       "      <td>9b98b8c7a33c4b65b9aebfe6a799e6d9</td>\n",
       "      <td>0.67</td>\n",
       "      <td>No</td>\n",
       "      <td>5</td>\n",
       "      <td>7</td>\n",
       "      <td>5</td>\n",
       "      <td>1</td>\n",
       "      <td>1</td>\n",
       "      <td>0</td>\n",
       "      <td>1</td>\n",
       "      <td>bogo</td>\n",
       "      <td>59</td>\n",
       "      <td>41000.0</td>\n",
       "      <td>M</td>\n",
       "      <td>2015</td>\n",
       "      <td>1</td>\n",
       "    </tr>\n",
       "  </tbody>\n",
       "</table>\n",
       "</div>"
      ],
      "text/plain": [
       "                          person_id                          offer_id  amount  \\\n",
       "0  78afa995795e4d85b5d9ceeca43f5fef  9b98b8c7a33c4b65b9aebfe6a799e6d9   37.67   \n",
       "1  78afa995795e4d85b5d9ceeca43f5fef  f19421c1d4aa40978ebb69ca19b0e20d   48.28   \n",
       "2  78afa995795e4d85b5d9ceeca43f5fef  ae264e3637204a6fb9bb56bc8210ddfd   48.28   \n",
       "3  78afa995795e4d85b5d9ceeca43f5fef  5a8bc65990b245e5a138643cd4eb9837   49.39   \n",
       "4  ebe7ef46ea6f4963a7dd49f501b26779  9b98b8c7a33c4b65b9aebfe6a799e6d9    0.67   \n",
       "\n",
       "  success_flag  difficulty  duration  reward  channel_mobile  channel_email  \\\n",
       "0          Yes           5         7       5               1              1   \n",
       "1          Yes           5         5       5               1              1   \n",
       "2          Yes          10         7      10               1              1   \n",
       "3          Yes           0         3       0               1              1   \n",
       "4           No           5         7       5               1              1   \n",
       "\n",
       "   channel_social  channel_web     offer_type  age    income gender  \\\n",
       "0               0            1           bogo   75  100000.0      F   \n",
       "1               1            1           bogo   75  100000.0      F   \n",
       "2               1            0           bogo   75  100000.0      F   \n",
       "3               1            0  informational   75  100000.0      F   \n",
       "4               0            1           bogo   59   41000.0      M   \n",
       "\n",
       "   became_member_on_year  became_member_on_month  \n",
       "0                   2017                       5  \n",
       "1                   2017                       5  \n",
       "2                   2017                       5  \n",
       "3                   2017                       5  \n",
       "4                   2015                       1  "
      ]
     },
     "metadata": {},
     "output_type": "display_data"
    },
    {
     "name": "stdout",
     "output_type": "stream",
     "text": [
      "(66501, 17)\n"
     ]
    }
   ],
   "source": [
    "############### Read data from filesystem and put all together #################################################\n",
    "\n",
    "# merged_df = pd.read_csv(\"data/combined_data_0.csv\") # data could also be read from filesystem \n",
    "\n",
    "merged_df = merged_df.merge(portfolio_clean, left_on='offer_id', right_on='id', sort=False)\n",
    "\n",
    "merged_df = merged_df.drop('id',axis=1)\n",
    "merged_df = merged_df.merge(profile_clean, left_on='person_id', right_on='id', sort=False)\n",
    "merged_df = merged_df.drop(['time','event','id','became_member_on_day'],axis=1)\n",
    "\n",
    "display(merged_df.head())\n",
    "print(merged_df.shape)"
   ]
  },
  {
   "cell_type": "code",
   "execution_count": 24,
   "metadata": {},
   "outputs": [
    {
     "data": {
      "text/plain": [
       "No     33726\n",
       "Yes    32775\n",
       "Name: success_flag, dtype: int64"
      ]
     },
     "execution_count": 24,
     "metadata": {},
     "output_type": "execute_result"
    }
   ],
   "source": [
    "merged_df.success_flag.value_counts()"
   ]
  },
  {
   "cell_type": "code",
   "execution_count": 25,
   "metadata": {},
   "outputs": [
    {
     "data": {
      "text/plain": [
       "M    38129\n",
       "F    27456\n",
       "O      916\n",
       "Name: gender, dtype: int64"
      ]
     },
     "execution_count": 25,
     "metadata": {},
     "output_type": "execute_result"
    }
   ],
   "source": [
    "merged_df.gender.value_counts()"
   ]
  },
  {
   "cell_type": "code",
   "execution_count": 26,
   "metadata": {},
   "outputs": [
    {
     "name": "stdout",
     "output_type": "stream",
     "text": [
      "\n",
      "Merged data saved...\n"
     ]
    }
   ],
   "source": [
    "# Writing merged data in filesystem\n",
    "merged_df.to_csv(\"data/merged_df.csv\",index=False)\n",
    "print(\"\\nMerged data saved...\")"
   ]
  },
  {
   "cell_type": "markdown",
   "metadata": {},
   "source": [
    "## Exploratory Data Analysis "
   ]
  },
  {
   "cell_type": "code",
   "execution_count": 27,
   "metadata": {},
   "outputs": [],
   "source": [
    "df = pd.read_csv(\"data/merged_df.csv\")"
   ]
  },
  {
   "cell_type": "code",
   "execution_count": 28,
   "metadata": {},
   "outputs": [
    {
     "data": {
      "text/html": [
       "<div>\n",
       "<style scoped>\n",
       "    .dataframe tbody tr th:only-of-type {\n",
       "        vertical-align: middle;\n",
       "    }\n",
       "\n",
       "    .dataframe tbody tr th {\n",
       "        vertical-align: top;\n",
       "    }\n",
       "\n",
       "    .dataframe thead th {\n",
       "        text-align: right;\n",
       "    }\n",
       "</style>\n",
       "<table border=\"1\" class=\"dataframe\">\n",
       "  <thead>\n",
       "    <tr style=\"text-align: right;\">\n",
       "      <th></th>\n",
       "      <th>person_id</th>\n",
       "      <th>offer_id</th>\n",
       "      <th>amount</th>\n",
       "      <th>success_flag</th>\n",
       "      <th>difficulty</th>\n",
       "      <th>duration</th>\n",
       "      <th>reward</th>\n",
       "      <th>channel_mobile</th>\n",
       "      <th>channel_email</th>\n",
       "      <th>channel_social</th>\n",
       "      <th>channel_web</th>\n",
       "      <th>offer_type</th>\n",
       "      <th>age</th>\n",
       "      <th>income</th>\n",
       "      <th>gender</th>\n",
       "      <th>became_member_on_year</th>\n",
       "      <th>became_member_on_month</th>\n",
       "    </tr>\n",
       "  </thead>\n",
       "  <tbody>\n",
       "    <tr>\n",
       "      <th>0</th>\n",
       "      <td>78afa995795e4d85b5d9ceeca43f5fef</td>\n",
       "      <td>9b98b8c7a33c4b65b9aebfe6a799e6d9</td>\n",
       "      <td>37.67</td>\n",
       "      <td>Yes</td>\n",
       "      <td>5</td>\n",
       "      <td>7</td>\n",
       "      <td>5</td>\n",
       "      <td>1</td>\n",
       "      <td>1</td>\n",
       "      <td>0</td>\n",
       "      <td>1</td>\n",
       "      <td>bogo</td>\n",
       "      <td>75</td>\n",
       "      <td>100000.0</td>\n",
       "      <td>F</td>\n",
       "      <td>2017</td>\n",
       "      <td>5</td>\n",
       "    </tr>\n",
       "    <tr>\n",
       "      <th>1</th>\n",
       "      <td>78afa995795e4d85b5d9ceeca43f5fef</td>\n",
       "      <td>f19421c1d4aa40978ebb69ca19b0e20d</td>\n",
       "      <td>48.28</td>\n",
       "      <td>Yes</td>\n",
       "      <td>5</td>\n",
       "      <td>5</td>\n",
       "      <td>5</td>\n",
       "      <td>1</td>\n",
       "      <td>1</td>\n",
       "      <td>1</td>\n",
       "      <td>1</td>\n",
       "      <td>bogo</td>\n",
       "      <td>75</td>\n",
       "      <td>100000.0</td>\n",
       "      <td>F</td>\n",
       "      <td>2017</td>\n",
       "      <td>5</td>\n",
       "    </tr>\n",
       "    <tr>\n",
       "      <th>2</th>\n",
       "      <td>78afa995795e4d85b5d9ceeca43f5fef</td>\n",
       "      <td>ae264e3637204a6fb9bb56bc8210ddfd</td>\n",
       "      <td>48.28</td>\n",
       "      <td>Yes</td>\n",
       "      <td>10</td>\n",
       "      <td>7</td>\n",
       "      <td>10</td>\n",
       "      <td>1</td>\n",
       "      <td>1</td>\n",
       "      <td>1</td>\n",
       "      <td>0</td>\n",
       "      <td>bogo</td>\n",
       "      <td>75</td>\n",
       "      <td>100000.0</td>\n",
       "      <td>F</td>\n",
       "      <td>2017</td>\n",
       "      <td>5</td>\n",
       "    </tr>\n",
       "    <tr>\n",
       "      <th>3</th>\n",
       "      <td>78afa995795e4d85b5d9ceeca43f5fef</td>\n",
       "      <td>5a8bc65990b245e5a138643cd4eb9837</td>\n",
       "      <td>49.39</td>\n",
       "      <td>Yes</td>\n",
       "      <td>0</td>\n",
       "      <td>3</td>\n",
       "      <td>0</td>\n",
       "      <td>1</td>\n",
       "      <td>1</td>\n",
       "      <td>1</td>\n",
       "      <td>0</td>\n",
       "      <td>informational</td>\n",
       "      <td>75</td>\n",
       "      <td>100000.0</td>\n",
       "      <td>F</td>\n",
       "      <td>2017</td>\n",
       "      <td>5</td>\n",
       "    </tr>\n",
       "    <tr>\n",
       "      <th>4</th>\n",
       "      <td>ebe7ef46ea6f4963a7dd49f501b26779</td>\n",
       "      <td>9b98b8c7a33c4b65b9aebfe6a799e6d9</td>\n",
       "      <td>0.67</td>\n",
       "      <td>No</td>\n",
       "      <td>5</td>\n",
       "      <td>7</td>\n",
       "      <td>5</td>\n",
       "      <td>1</td>\n",
       "      <td>1</td>\n",
       "      <td>0</td>\n",
       "      <td>1</td>\n",
       "      <td>bogo</td>\n",
       "      <td>59</td>\n",
       "      <td>41000.0</td>\n",
       "      <td>M</td>\n",
       "      <td>2015</td>\n",
       "      <td>1</td>\n",
       "    </tr>\n",
       "  </tbody>\n",
       "</table>\n",
       "</div>"
      ],
      "text/plain": [
       "                          person_id                          offer_id  amount  \\\n",
       "0  78afa995795e4d85b5d9ceeca43f5fef  9b98b8c7a33c4b65b9aebfe6a799e6d9   37.67   \n",
       "1  78afa995795e4d85b5d9ceeca43f5fef  f19421c1d4aa40978ebb69ca19b0e20d   48.28   \n",
       "2  78afa995795e4d85b5d9ceeca43f5fef  ae264e3637204a6fb9bb56bc8210ddfd   48.28   \n",
       "3  78afa995795e4d85b5d9ceeca43f5fef  5a8bc65990b245e5a138643cd4eb9837   49.39   \n",
       "4  ebe7ef46ea6f4963a7dd49f501b26779  9b98b8c7a33c4b65b9aebfe6a799e6d9    0.67   \n",
       "\n",
       "  success_flag  difficulty  duration  reward  channel_mobile  channel_email  \\\n",
       "0          Yes           5         7       5               1              1   \n",
       "1          Yes           5         5       5               1              1   \n",
       "2          Yes          10         7      10               1              1   \n",
       "3          Yes           0         3       0               1              1   \n",
       "4           No           5         7       5               1              1   \n",
       "\n",
       "   channel_social  channel_web     offer_type  age    income gender  \\\n",
       "0               0            1           bogo   75  100000.0      F   \n",
       "1               1            1           bogo   75  100000.0      F   \n",
       "2               1            0           bogo   75  100000.0      F   \n",
       "3               1            0  informational   75  100000.0      F   \n",
       "4               0            1           bogo   59   41000.0      M   \n",
       "\n",
       "   became_member_on_year  became_member_on_month  \n",
       "0                   2017                       5  \n",
       "1                   2017                       5  \n",
       "2                   2017                       5  \n",
       "3                   2017                       5  \n",
       "4                   2015                       1  "
      ]
     },
     "execution_count": 28,
     "metadata": {},
     "output_type": "execute_result"
    }
   ],
   "source": [
    "df.head()"
   ]
  },
  {
   "cell_type": "code",
   "execution_count": 29,
   "metadata": {},
   "outputs": [
    {
     "data": {
      "text/plain": [
       "(66501, 17)"
      ]
     },
     "execution_count": 29,
     "metadata": {},
     "output_type": "execute_result"
    }
   ],
   "source": [
    "df.shape"
   ]
  },
  {
   "cell_type": "markdown",
   "metadata": {},
   "source": [
    "### Merged Data Analysis"
   ]
  },
  {
   "cell_type": "markdown",
   "metadata": {},
   "source": [
    "Data in this section are viewed from the perspective of the response of the user to a given offer."
   ]
  },
  {
   "cell_type": "code",
   "execution_count": 30,
   "metadata": {},
   "outputs": [
    {
     "data": {
      "text/plain": [
       "No     33726\n",
       "Yes    32775\n",
       "Name: success_flag, dtype: int64"
      ]
     },
     "execution_count": 30,
     "metadata": {},
     "output_type": "execute_result"
    }
   ],
   "source": [
    "df.success_flag.value_counts()"
   ]
  },
  {
   "cell_type": "markdown",
   "metadata": {},
   "source": [
    "There are more the half of received offers which have been successfuly responded (58%)"
   ]
  },
  {
   "cell_type": "markdown",
   "metadata": {},
   "source": [
    "***Helper function***"
   ]
  },
  {
   "cell_type": "code",
   "execution_count": 31,
   "metadata": {},
   "outputs": [],
   "source": [
    "def sort_data(data, col, id_='offer_id'):\n",
    "    data_index = data[data.success_flag=='Yes'].sort_values([col], ascending=False).reset_index(drop=True)\n",
    "    ind_list = list(data_index[id_].values)\n",
    "    for idx in list(data[id_].values):\n",
    "        if not idx in ind_list:\n",
    "            ind_list.append(idx)\n",
    "    data2 = data.copy()\n",
    "    data2['sort'] = range(data2.shape[0])\n",
    "    data2['sort'] = data2[id_].apply(lambda x: ind_list.index(x))\n",
    "    data2 = data2.sort_values(['sort','success_flag']).reset_index(drop=True) \n",
    "    return data2[data2.columns[:-1]]"
   ]
  },
  {
   "cell_type": "markdown",
   "metadata": {},
   "source": [
    "#### Impact of offer on amount paid (sales)"
   ]
  },
  {
   "cell_type": "code",
   "execution_count": 32,
   "metadata": {},
   "outputs": [
    {
     "data": {
      "text/plain": [
       "(array([0, 1, 2, 3, 4, 5, 6, 7, 8, 9]), <a list of 10 Text xticklabel objects>)"
      ]
     },
     "execution_count": 32,
     "metadata": {},
     "output_type": "execute_result"
    },
    {
     "data": {
      "image/png": "[encoded data removed]",
      "text/plain": [
       "<matplotlib.figure.Figure at 0x7f306bff3518>"
      ]
     },
     "metadata": {
      "needs_background": "light"
     },
     "output_type": "display_data"
    }
   ],
   "source": [
    "data = df[['offer_id', 'success_flag','amount']].groupby(['offer_id', 'success_flag']).sum()\n",
    "data = data.reset_index()\n",
    "\n",
    "data.columns = ['offer_id', 'success_flag', 'amount']\n",
    "data = sort_data(data,'amount')\n",
    "plt.figure(figsize=(10, 5))\n",
    "sb.barplot(x='offer_id', y='amount', hue='success_flag', data=data)\n",
    "plt.xticks(rotation=90)"
   ]
  },
  {
   "cell_type": "markdown",
   "metadata": {},
   "source": [
    "Offers **fafdcd668e3743c1bb461111dcafc2a4** and **2298d6c36e964ae4a3e7e9706d1fb8c2** are the main drivers of sales. They are also the most successful offers in term of number of users responding to offers."
   ]
  },
  {
   "cell_type": "markdown",
   "metadata": {},
   "source": [
    "#### Impact of offer on successful response"
   ]
  },
  {
   "cell_type": "code",
   "execution_count": 33,
   "metadata": {},
   "outputs": [
    {
     "data": {
      "text/plain": [
       "(array([0, 1, 2, 3, 4, 5, 6, 7, 8, 9]), <a list of 10 Text xticklabel objects>)"
      ]
     },
     "execution_count": 33,
     "metadata": {},
     "output_type": "execute_result"
    },
    {
     "data": {
      "image/png": "[encoded data removed]",
      "text/plain": [
       "<matplotlib.figure.Figure at 0x7f306bfffc18>"
      ]
     },
     "metadata": {
      "needs_background": "light"
     },
     "output_type": "display_data"
    }
   ],
   "source": [
    "data = df.groupby(['offer_id', 'success_flag']).size()\n",
    "data = data.reset_index()\n",
    "\n",
    "data.columns = ['offer_id', 'success_flag', 'count']\n",
    "data = sort_data(data,'count')\n",
    "plt.figure(figsize=(10, 5))\n",
    "sb.barplot(x='offer_id', y='count', hue='success_flag', data=data)\n",
    "plt.xticks(rotation=90)"
   ]
  },
  {
   "cell_type": "markdown",
   "metadata": {},
   "source": [
    "*The 3 most responded offers:*\n",
    "\n",
    " - fafdcd668e3743c1bb461111dcafc2a4\n",
    " - 2298d6c36e964ae4a3e7e9706d1fb8c2\n",
    " - f19421c1d4aa40978ebb69ca19b0e20d\n",
    "\n",
    "*The 2 least responded offers:*\n",
    "\n",
    " - 3f207df678b143eea3cee63160fa8bed\n",
    " - 0b1e1539f2cc45b7b9fa7c272da2e1d7\n",
    " \n"
   ]
  },
  {
   "cell_type": "markdown",
   "metadata": {},
   "source": [
    "#### Impact of offer duration on successful response"
   ]
  },
  {
   "cell_type": "code",
   "execution_count": 34,
   "metadata": {},
   "outputs": [
    {
     "data": {
      "text/plain": [
       "<matplotlib.axes._subplots.AxesSubplot at 0x7f306c004d30>"
      ]
     },
     "execution_count": 34,
     "metadata": {},
     "output_type": "execute_result"
    },
    {
     "data": {
      "image/png": "[encoded data removed]",
      "text/plain": [
       "<matplotlib.figure.Figure at 0x7f306bfba240>"
      ]
     },
     "metadata": {
      "needs_background": "light"
     },
     "output_type": "display_data"
    }
   ],
   "source": [
    "data = df.groupby(['duration', 'success_flag']).size()\n",
    "data = data.reset_index()\n",
    "data.columns = ['duration', 'success_flag', 'count']\n",
    "\n",
    "plt.figure(figsize=(10, 5))\n",
    "sb.barplot(x='duration', y='count', hue='success_flag', data=data)"
   ]
  },
  {
   "cell_type": "markdown",
   "metadata": {},
   "source": [
    "*Offers with duration less than 5 days are less successful. Offer with duration of 7 days are more successful than those with duration of 5 or 10 days. Hence, users tend to consider 7 days duration as fair.*"
   ]
  },
  {
   "cell_type": "markdown",
   "metadata": {},
   "source": [
    "#### Impact of offer reward on successful response"
   ]
  },
  {
   "cell_type": "code",
   "execution_count": 35,
   "metadata": {},
   "outputs": [
    {
     "data": {
      "text/plain": [
       "<matplotlib.axes._subplots.AxesSubplot at 0x7f306beecfd0>"
      ]
     },
     "execution_count": 35,
     "metadata": {},
     "output_type": "execute_result"
    },
    {
     "data": {
      "image/png": "[encoded data removed]",
      "text/plain": [
       "<matplotlib.figure.Figure at 0x7f306c004e80>"
      ]
     },
     "metadata": {
      "needs_background": "light"
     },
     "output_type": "display_data"
    }
   ],
   "source": [
    "data = df.groupby(['reward', 'success_flag']).size()\n",
    "data = data.reset_index()\n",
    "data.columns = ['reward', 'success_flag', 'count']\n",
    "\n",
    "plt.figure(figsize=(10, 5))\n",
    "sb.barplot(x='reward', y='count', hue='success_flag', data=data)"
   ]
  },
  {
   "cell_type": "markdown",
   "metadata": {},
   "source": [
    "*Offers with reward 3 are less successful than all others.*"
   ]
  },
  {
   "cell_type": "markdown",
   "metadata": {},
   "source": [
    "#### Impact of offer difficulty on successful response"
   ]
  },
  {
   "cell_type": "code",
   "execution_count": 36,
   "metadata": {},
   "outputs": [
    {
     "data": {
      "text/plain": [
       "<matplotlib.axes._subplots.AxesSubplot at 0x7f306bee5128>"
      ]
     },
     "execution_count": 36,
     "metadata": {},
     "output_type": "execute_result"
    },
    {
     "data": {
      "image/png": "[encoded data removed]",
      "text/plain": [
       "<matplotlib.figure.Figure at 0x7f306bfbf4e0>"
      ]
     },
     "metadata": {
      "needs_background": "light"
     },
     "output_type": "display_data"
    }
   ],
   "source": [
    "data = df.groupby(['difficulty', 'success_flag']).size()\n",
    "data = data.reset_index()\n",
    "data.columns = ['difficulty', 'success_flag', 'count']\n",
    "\n",
    "plt.figure(figsize=(10, 5))\n",
    "sb.barplot(x='difficulty', y='count', hue='success_flag', data=data)"
   ]
  },
  {
   "cell_type": "markdown",
   "metadata": {},
   "source": [
    "*Offers with difficulty of 10 are the most responded. Those with difficulty of 20 are the least responded.*"
   ]
  },
  {
   "cell_type": "markdown",
   "metadata": {},
   "source": [
    "#### Impact of offer type on successful response"
   ]
  },
  {
   "cell_type": "code",
   "execution_count": 37,
   "metadata": {},
   "outputs": [
    {
     "data": {
      "text/plain": [
       "<matplotlib.axes._subplots.AxesSubplot at 0x7f306be850b8>"
      ]
     },
     "execution_count": 37,
     "metadata": {},
     "output_type": "execute_result"
    },
    {
     "data": {
      "image/png": "[encoded data removed]",
      "text/plain": [
       "<matplotlib.figure.Figure at 0x7f306be6ca58>"
      ]
     },
     "metadata": {
      "needs_background": "light"
     },
     "output_type": "display_data"
    }
   ],
   "source": [
    "data = df.groupby(['offer_type', 'success_flag']).size()\n",
    "data = data.reset_index()\n",
    "data.columns = ['offer_type', 'success_flag', 'count']\n",
    "\n",
    "plt.figure(figsize=(10, 5))\n",
    "sb.barplot(x='offer_type', y='count', hue='success_flag', data=data)"
   ]
  },
  {
   "cell_type": "markdown",
   "metadata": {},
   "source": [
    "*Offers of type discount are slightly more successful than those of type bogo. Offers of type informational are less sent out than others.*"
   ]
  },
  {
   "cell_type": "markdown",
   "metadata": {},
   "source": [
    "#### Impact of offer type on sales"
   ]
  },
  {
   "cell_type": "code",
   "execution_count": 38,
   "metadata": {},
   "outputs": [
    {
     "data": {
      "text/plain": [
       "(array([0, 1, 2]), <a list of 3 Text xticklabel objects>)"
      ]
     },
     "execution_count": 38,
     "metadata": {},
     "output_type": "execute_result"
    },
    {
     "data": {
      "image/png": "[encoded data removed]",
      "text/plain": [
       "<matplotlib.figure.Figure at 0x7f306be6cbe0>"
      ]
     },
     "metadata": {
      "needs_background": "light"
     },
     "output_type": "display_data"
    }
   ],
   "source": [
    "data = df[['offer_type', 'success_flag','amount']].groupby(['offer_type', 'success_flag']).sum()\n",
    "data = data.reset_index()\n",
    "\n",
    "data.columns = ['offer_type', 'success_flag', 'amount']\n",
    "data = sort_data(data,'amount','offer_type')\n",
    "plt.figure(figsize=(10, 5))\n",
    "sb.barplot(x='offer_type', y='amount', hue='success_flag', data=data)\n",
    "plt.xticks(rotation=90)"
   ]
  },
  {
   "cell_type": "markdown",
   "metadata": {},
   "source": [
    "Offers of type discount and bogo are the main drivers of sales. Informational offers play a minor role. It becomes clear that people who respond to offers are those who make the most sales."
   ]
  },
  {
   "cell_type": "markdown",
   "metadata": {},
   "source": [
    "#### Impact of gender on successful response"
   ]
  },
  {
   "cell_type": "code",
   "execution_count": 39,
   "metadata": {},
   "outputs": [
    {
     "data": {
      "text/plain": [
       "<matplotlib.axes._subplots.AxesSubplot at 0x7f306be11c88>"
      ]
     },
     "execution_count": 39,
     "metadata": {},
     "output_type": "execute_result"
    },
    {
     "data": {
      "image/png": "[encoded data removed]",
      "text/plain": [
       "<matplotlib.figure.Figure at 0x7f306bedc0b8>"
      ]
     },
     "metadata": {
      "needs_background": "light"
     },
     "output_type": "display_data"
    }
   ],
   "source": [
    "data = df.groupby(['gender', 'success_flag']).size()\n",
    "data = data.reset_index()\n",
    "data.columns = ['gender', 'success_flag', 'count']\n",
    "\n",
    "plt.figure(figsize=(10, 5))\n",
    "sb.barplot(x='gender', y='count', hue='success_flag', data=data)"
   ]
  },
  {
   "cell_type": "markdown",
   "metadata": {},
   "source": [
    "There are in proportion more women who respond to offers than men. But in absolut value the number of men responding to different offers is higher than the number of women doing the same."
   ]
  },
  {
   "cell_type": "markdown",
   "metadata": {},
   "source": [
    "#### Impact of gender on sales"
   ]
  },
  {
   "cell_type": "code",
   "execution_count": 40,
   "metadata": {},
   "outputs": [
    {
     "data": {
      "text/plain": [
       "<matplotlib.axes._subplots.AxesSubplot at 0x7f306be15940>"
      ]
     },
     "execution_count": 40,
     "metadata": {},
     "output_type": "execute_result"
    },
    {
     "data": {
      "image/png": "[encoded data removed]",
      "text/plain": [
       "<matplotlib.figure.Figure at 0x7f306be3f748>"
      ]
     },
     "metadata": {
      "needs_background": "light"
     },
     "output_type": "display_data"
    }
   ],
   "source": [
    "data = df[['gender', 'success_flag','amount']].groupby(['gender', 'success_flag']).sum()\n",
    "data = data.reset_index()\n",
    "\n",
    "data.columns = ['gender', 'success_flag', 'amount']\n",
    "data = sort_data(data,'amount','gender')\n",
    "plt.figure(figsize=(10, 5))\n",
    "sb.barplot(x='gender', y='amount', hue='success_flag', data=data)\n",
    "#plt.xticks(rotation=90)"
   ]
  },
  {
   "cell_type": "markdown",
   "metadata": {},
   "source": [
    "Women produce more sales than men although they are less in number responding to different offers."
   ]
  },
  {
   "cell_type": "markdown",
   "metadata": {},
   "source": [
    "#### Impact of age on successful response and sales"
   ]
  },
  {
   "cell_type": "code",
   "execution_count": 41,
   "metadata": {},
   "outputs": [
    {
     "data": {
      "text/html": [
       "<div>\n",
       "<style scoped>\n",
       "    .dataframe tbody tr th:only-of-type {\n",
       "        vertical-align: middle;\n",
       "    }\n",
       "\n",
       "    .dataframe tbody tr th {\n",
       "        vertical-align: top;\n",
       "    }\n",
       "\n",
       "    .dataframe thead th {\n",
       "        text-align: right;\n",
       "    }\n",
       "</style>\n",
       "<table border=\"1\" class=\"dataframe\">\n",
       "  <thead>\n",
       "    <tr style=\"text-align: right;\">\n",
       "      <th></th>\n",
       "      <th>person_id</th>\n",
       "      <th>offer_id</th>\n",
       "      <th>amount</th>\n",
       "      <th>success_flag</th>\n",
       "      <th>difficulty</th>\n",
       "      <th>duration</th>\n",
       "      <th>reward</th>\n",
       "      <th>channel_mobile</th>\n",
       "      <th>channel_email</th>\n",
       "      <th>channel_social</th>\n",
       "      <th>channel_web</th>\n",
       "      <th>offer_type</th>\n",
       "      <th>age</th>\n",
       "      <th>income</th>\n",
       "      <th>gender</th>\n",
       "      <th>became_member_on_year</th>\n",
       "      <th>became_member_on_month</th>\n",
       "      <th>age_range</th>\n",
       "    </tr>\n",
       "  </thead>\n",
       "  <tbody>\n",
       "    <tr>\n",
       "      <th>0</th>\n",
       "      <td>78afa995795e4d85b5d9ceeca43f5fef</td>\n",
       "      <td>9b98b8c7a33c4b65b9aebfe6a799e6d9</td>\n",
       "      <td>37.67</td>\n",
       "      <td>Yes</td>\n",
       "      <td>5</td>\n",
       "      <td>7</td>\n",
       "      <td>5</td>\n",
       "      <td>1</td>\n",
       "      <td>1</td>\n",
       "      <td>0</td>\n",
       "      <td>1</td>\n",
       "      <td>bogo</td>\n",
       "      <td>75</td>\n",
       "      <td>100000.0</td>\n",
       "      <td>F</td>\n",
       "      <td>2017</td>\n",
       "      <td>5</td>\n",
       "      <td>70-80</td>\n",
       "    </tr>\n",
       "    <tr>\n",
       "      <th>1</th>\n",
       "      <td>78afa995795e4d85b5d9ceeca43f5fef</td>\n",
       "      <td>f19421c1d4aa40978ebb69ca19b0e20d</td>\n",
       "      <td>48.28</td>\n",
       "      <td>Yes</td>\n",
       "      <td>5</td>\n",
       "      <td>5</td>\n",
       "      <td>5</td>\n",
       "      <td>1</td>\n",
       "      <td>1</td>\n",
       "      <td>1</td>\n",
       "      <td>1</td>\n",
       "      <td>bogo</td>\n",
       "      <td>75</td>\n",
       "      <td>100000.0</td>\n",
       "      <td>F</td>\n",
       "      <td>2017</td>\n",
       "      <td>5</td>\n",
       "      <td>70-80</td>\n",
       "    </tr>\n",
       "    <tr>\n",
       "      <th>2</th>\n",
       "      <td>78afa995795e4d85b5d9ceeca43f5fef</td>\n",
       "      <td>ae264e3637204a6fb9bb56bc8210ddfd</td>\n",
       "      <td>48.28</td>\n",
       "      <td>Yes</td>\n",
       "      <td>10</td>\n",
       "      <td>7</td>\n",
       "      <td>10</td>\n",
       "      <td>1</td>\n",
       "      <td>1</td>\n",
       "      <td>1</td>\n",
       "      <td>0</td>\n",
       "      <td>bogo</td>\n",
       "      <td>75</td>\n",
       "      <td>100000.0</td>\n",
       "      <td>F</td>\n",
       "      <td>2017</td>\n",
       "      <td>5</td>\n",
       "      <td>70-80</td>\n",
       "    </tr>\n",
       "    <tr>\n",
       "      <th>3</th>\n",
       "      <td>78afa995795e4d85b5d9ceeca43f5fef</td>\n",
       "      <td>5a8bc65990b245e5a138643cd4eb9837</td>\n",
       "      <td>49.39</td>\n",
       "      <td>Yes</td>\n",
       "      <td>0</td>\n",
       "      <td>3</td>\n",
       "      <td>0</td>\n",
       "      <td>1</td>\n",
       "      <td>1</td>\n",
       "      <td>1</td>\n",
       "      <td>0</td>\n",
       "      <td>informational</td>\n",
       "      <td>75</td>\n",
       "      <td>100000.0</td>\n",
       "      <td>F</td>\n",
       "      <td>2017</td>\n",
       "      <td>5</td>\n",
       "      <td>70-80</td>\n",
       "    </tr>\n",
       "    <tr>\n",
       "      <th>4</th>\n",
       "      <td>ebe7ef46ea6f4963a7dd49f501b26779</td>\n",
       "      <td>9b98b8c7a33c4b65b9aebfe6a799e6d9</td>\n",
       "      <td>0.67</td>\n",
       "      <td>No</td>\n",
       "      <td>5</td>\n",
       "      <td>7</td>\n",
       "      <td>5</td>\n",
       "      <td>1</td>\n",
       "      <td>1</td>\n",
       "      <td>0</td>\n",
       "      <td>1</td>\n",
       "      <td>bogo</td>\n",
       "      <td>59</td>\n",
       "      <td>41000.0</td>\n",
       "      <td>M</td>\n",
       "      <td>2015</td>\n",
       "      <td>1</td>\n",
       "      <td>50-60</td>\n",
       "    </tr>\n",
       "  </tbody>\n",
       "</table>\n",
       "</div>"
      ],
      "text/plain": [
       "                          person_id                          offer_id  amount  \\\n",
       "0  78afa995795e4d85b5d9ceeca43f5fef  9b98b8c7a33c4b65b9aebfe6a799e6d9   37.67   \n",
       "1  78afa995795e4d85b5d9ceeca43f5fef  f19421c1d4aa40978ebb69ca19b0e20d   48.28   \n",
       "2  78afa995795e4d85b5d9ceeca43f5fef  ae264e3637204a6fb9bb56bc8210ddfd   48.28   \n",
       "3  78afa995795e4d85b5d9ceeca43f5fef  5a8bc65990b245e5a138643cd4eb9837   49.39   \n",
       "4  ebe7ef46ea6f4963a7dd49f501b26779  9b98b8c7a33c4b65b9aebfe6a799e6d9    0.67   \n",
       "\n",
       "  success_flag  difficulty  duration  reward  channel_mobile  channel_email  \\\n",
       "0          Yes           5         7       5               1              1   \n",
       "1          Yes           5         5       5               1              1   \n",
       "2          Yes          10         7      10               1              1   \n",
       "3          Yes           0         3       0               1              1   \n",
       "4           No           5         7       5               1              1   \n",
       "\n",
       "   channel_social  channel_web     offer_type  age    income gender  \\\n",
       "0               0            1           bogo   75  100000.0      F   \n",
       "1               1            1           bogo   75  100000.0      F   \n",
       "2               1            0           bogo   75  100000.0      F   \n",
       "3               1            0  informational   75  100000.0      F   \n",
       "4               0            1           bogo   59   41000.0      M   \n",
       "\n",
       "   became_member_on_year  became_member_on_month age_range  \n",
       "0                   2017                       5     70-80  \n",
       "1                   2017                       5     70-80  \n",
       "2                   2017                       5     70-80  \n",
       "3                   2017                       5     70-80  \n",
       "4                   2015                       1     50-60  "
      ]
     },
     "execution_count": 41,
     "metadata": {},
     "output_type": "execute_result"
    }
   ],
   "source": [
    "bins = [0, 10, 20, 30, 40, 50, 60, 70, 80, 90, 100, 110, 120]\n",
    "labels = ['0-10','10-20','20-30','30-40','40-50','50-60','60-70','70-80','80-90','90-100','100-110','110-120']\n",
    "df['age_range'] = pd.cut(df['age'], bins,labels=labels)\n",
    "df.head()"
   ]
  },
  {
   "cell_type": "code",
   "execution_count": 42,
   "metadata": {},
   "outputs": [
    {
     "data": {
      "text/plain": [
       "(array([ 0,  1,  2,  3,  4,  5,  6,  7,  8,  9, 10, 11]),\n",
       " <a list of 12 Text xticklabel objects>)"
      ]
     },
     "execution_count": 42,
     "metadata": {},
     "output_type": "execute_result"
    },
    {
     "data": {
      "image/png": "[encoded data removed]",
      "text/plain": [
       "<matplotlib.figure.Figure at 0x7f306bd89b70>"
      ]
     },
     "metadata": {
      "needs_background": "light"
     },
     "output_type": "display_data"
    }
   ],
   "source": [
    "from matplotlib import pyplot as plt\n",
    "\n",
    "data = df.groupby(['age_range', 'success_flag']).size()\n",
    "data = data.reset_index()\n",
    "data.columns = ['age_range', 'success_flag', 'count']\n",
    "\n",
    "plt.figure(figsize=(10, 5))\n",
    "sb.barplot(x='age_range', y='count', hue='success_flag', data=data)\n",
    "plt.xticks(rotation=90)"
   ]
  },
  {
   "cell_type": "markdown",
   "metadata": {},
   "source": [
    "The responding users are mostly between 40 and 70 years old."
   ]
  },
  {
   "cell_type": "code",
   "execution_count": 43,
   "metadata": {},
   "outputs": [
    {
     "data": {
      "text/plain": [
       "(array([ 0,  1,  2,  3,  4,  5,  6,  7,  8,  9, 10, 11]),\n",
       " <a list of 12 Text xticklabel objects>)"
      ]
     },
     "execution_count": 43,
     "metadata": {},
     "output_type": "execute_result"
    },
    {
     "data": {
      "image/png": "[encoded data removed]",
      "text/plain": [
       "<matplotlib.figure.Figure at 0x7f306bd3fda0>"
      ]
     },
     "metadata": {
      "needs_background": "light"
     },
     "output_type": "display_data"
    }
   ],
   "source": [
    "from matplotlib import pyplot as plt\n",
    "\n",
    "data = df[['age_range', 'success_flag','amount']].groupby(['age_range', 'success_flag']).sum()\n",
    "data = data.reset_index()\n",
    "data.columns = ['age_range', 'success_flag', 'amount']\n",
    "\n",
    "plt.figure(figsize=(10, 5))\n",
    "sb.barplot(x='age_range', y='amount', hue='success_flag', data=data)\n",
    "plt.xticks(rotation=90)"
   ]
  },
  {
   "cell_type": "markdown",
   "metadata": {},
   "source": [
    "The responding user are mostly between 40 and 70 years old. They are the main drivers for sales. "
   ]
  },
  {
   "cell_type": "markdown",
   "metadata": {},
   "source": [
    "#### Impact of income/salary on successful response and sales"
   ]
  },
  {
   "cell_type": "code",
   "execution_count": 44,
   "metadata": {},
   "outputs": [
    {
     "data": {
      "text/html": [
       "<div>\n",
       "<style scoped>\n",
       "    .dataframe tbody tr th:only-of-type {\n",
       "        vertical-align: middle;\n",
       "    }\n",
       "\n",
       "    .dataframe tbody tr th {\n",
       "        vertical-align: top;\n",
       "    }\n",
       "\n",
       "    .dataframe thead th {\n",
       "        text-align: right;\n",
       "    }\n",
       "</style>\n",
       "<table border=\"1\" class=\"dataframe\">\n",
       "  <thead>\n",
       "    <tr style=\"text-align: right;\">\n",
       "      <th></th>\n",
       "      <th>person_id</th>\n",
       "      <th>offer_id</th>\n",
       "      <th>amount</th>\n",
       "      <th>success_flag</th>\n",
       "      <th>difficulty</th>\n",
       "      <th>duration</th>\n",
       "      <th>reward</th>\n",
       "      <th>channel_mobile</th>\n",
       "      <th>channel_email</th>\n",
       "      <th>channel_social</th>\n",
       "      <th>channel_web</th>\n",
       "      <th>offer_type</th>\n",
       "      <th>age</th>\n",
       "      <th>income</th>\n",
       "      <th>gender</th>\n",
       "      <th>became_member_on_year</th>\n",
       "      <th>became_member_on_month</th>\n",
       "      <th>age_range</th>\n",
       "      <th>income_range</th>\n",
       "    </tr>\n",
       "  </thead>\n",
       "  <tbody>\n",
       "    <tr>\n",
       "      <th>0</th>\n",
       "      <td>78afa995795e4d85b5d9ceeca43f5fef</td>\n",
       "      <td>9b98b8c7a33c4b65b9aebfe6a799e6d9</td>\n",
       "      <td>37.67</td>\n",
       "      <td>Yes</td>\n",
       "      <td>5</td>\n",
       "      <td>7</td>\n",
       "      <td>5</td>\n",
       "      <td>1</td>\n",
       "      <td>1</td>\n",
       "      <td>0</td>\n",
       "      <td>1</td>\n",
       "      <td>bogo</td>\n",
       "      <td>75</td>\n",
       "      <td>100000.0</td>\n",
       "      <td>F</td>\n",
       "      <td>2017</td>\n",
       "      <td>5</td>\n",
       "      <td>70-80</td>\n",
       "      <td>90000-100000</td>\n",
       "    </tr>\n",
       "    <tr>\n",
       "      <th>1</th>\n",
       "      <td>78afa995795e4d85b5d9ceeca43f5fef</td>\n",
       "      <td>f19421c1d4aa40978ebb69ca19b0e20d</td>\n",
       "      <td>48.28</td>\n",
       "      <td>Yes</td>\n",
       "      <td>5</td>\n",
       "      <td>5</td>\n",
       "      <td>5</td>\n",
       "      <td>1</td>\n",
       "      <td>1</td>\n",
       "      <td>1</td>\n",
       "      <td>1</td>\n",
       "      <td>bogo</td>\n",
       "      <td>75</td>\n",
       "      <td>100000.0</td>\n",
       "      <td>F</td>\n",
       "      <td>2017</td>\n",
       "      <td>5</td>\n",
       "      <td>70-80</td>\n",
       "      <td>90000-100000</td>\n",
       "    </tr>\n",
       "    <tr>\n",
       "      <th>2</th>\n",
       "      <td>78afa995795e4d85b5d9ceeca43f5fef</td>\n",
       "      <td>ae264e3637204a6fb9bb56bc8210ddfd</td>\n",
       "      <td>48.28</td>\n",
       "      <td>Yes</td>\n",
       "      <td>10</td>\n",
       "      <td>7</td>\n",
       "      <td>10</td>\n",
       "      <td>1</td>\n",
       "      <td>1</td>\n",
       "      <td>1</td>\n",
       "      <td>0</td>\n",
       "      <td>bogo</td>\n",
       "      <td>75</td>\n",
       "      <td>100000.0</td>\n",
       "      <td>F</td>\n",
       "      <td>2017</td>\n",
       "      <td>5</td>\n",
       "      <td>70-80</td>\n",
       "      <td>90000-100000</td>\n",
       "    </tr>\n",
       "    <tr>\n",
       "      <th>3</th>\n",
       "      <td>78afa995795e4d85b5d9ceeca43f5fef</td>\n",
       "      <td>5a8bc65990b245e5a138643cd4eb9837</td>\n",
       "      <td>49.39</td>\n",
       "      <td>Yes</td>\n",
       "      <td>0</td>\n",
       "      <td>3</td>\n",
       "      <td>0</td>\n",
       "      <td>1</td>\n",
       "      <td>1</td>\n",
       "      <td>1</td>\n",
       "      <td>0</td>\n",
       "      <td>informational</td>\n",
       "      <td>75</td>\n",
       "      <td>100000.0</td>\n",
       "      <td>F</td>\n",
       "      <td>2017</td>\n",
       "      <td>5</td>\n",
       "      <td>70-80</td>\n",
       "      <td>90000-100000</td>\n",
       "    </tr>\n",
       "    <tr>\n",
       "      <th>4</th>\n",
       "      <td>ebe7ef46ea6f4963a7dd49f501b26779</td>\n",
       "      <td>9b98b8c7a33c4b65b9aebfe6a799e6d9</td>\n",
       "      <td>0.67</td>\n",
       "      <td>No</td>\n",
       "      <td>5</td>\n",
       "      <td>7</td>\n",
       "      <td>5</td>\n",
       "      <td>1</td>\n",
       "      <td>1</td>\n",
       "      <td>0</td>\n",
       "      <td>1</td>\n",
       "      <td>bogo</td>\n",
       "      <td>59</td>\n",
       "      <td>41000.0</td>\n",
       "      <td>M</td>\n",
       "      <td>2015</td>\n",
       "      <td>1</td>\n",
       "      <td>50-60</td>\n",
       "      <td>40000-50000</td>\n",
       "    </tr>\n",
       "  </tbody>\n",
       "</table>\n",
       "</div>"
      ],
      "text/plain": [
       "                          person_id                          offer_id  amount  \\\n",
       "0  78afa995795e4d85b5d9ceeca43f5fef  9b98b8c7a33c4b65b9aebfe6a799e6d9   37.67   \n",
       "1  78afa995795e4d85b5d9ceeca43f5fef  f19421c1d4aa40978ebb69ca19b0e20d   48.28   \n",
       "2  78afa995795e4d85b5d9ceeca43f5fef  ae264e3637204a6fb9bb56bc8210ddfd   48.28   \n",
       "3  78afa995795e4d85b5d9ceeca43f5fef  5a8bc65990b245e5a138643cd4eb9837   49.39   \n",
       "4  ebe7ef46ea6f4963a7dd49f501b26779  9b98b8c7a33c4b65b9aebfe6a799e6d9    0.67   \n",
       "\n",
       "  success_flag  difficulty  duration  reward  channel_mobile  channel_email  \\\n",
       "0          Yes           5         7       5               1              1   \n",
       "1          Yes           5         5       5               1              1   \n",
       "2          Yes          10         7      10               1              1   \n",
       "3          Yes           0         3       0               1              1   \n",
       "4           No           5         7       5               1              1   \n",
       "\n",
       "   channel_social  channel_web     offer_type  age    income gender  \\\n",
       "0               0            1           bogo   75  100000.0      F   \n",
       "1               1            1           bogo   75  100000.0      F   \n",
       "2               1            0           bogo   75  100000.0      F   \n",
       "3               1            0  informational   75  100000.0      F   \n",
       "4               0            1           bogo   59   41000.0      M   \n",
       "\n",
       "   became_member_on_year  became_member_on_month age_range  income_range  \n",
       "0                   2017                       5     70-80  90000-100000  \n",
       "1                   2017                       5     70-80  90000-100000  \n",
       "2                   2017                       5     70-80  90000-100000  \n",
       "3                   2017                       5     70-80  90000-100000  \n",
       "4                   2015                       1     50-60   40000-50000  "
      ]
     },
     "execution_count": 44,
     "metadata": {},
     "output_type": "execute_result"
    }
   ],
   "source": [
    "bins = [0, 10000, 20000, 30000, 40000, 50000, 60000, 70000, 80000, 90000, 100000, 110000, 120000, 130000]\n",
    "labels = ['0-10000','10000-20000','20000-30000','30000-40000','40000-50000','50000-60000','60000-70000','70000-80000','80000-90000','90000-100000','100000-110000','110000-120000','120000-130000']\n",
    "df['income_range'] = pd.cut(df['income'], bins,labels=labels)\n",
    "df.head()"
   ]
  },
  {
   "cell_type": "code",
   "execution_count": 45,
   "metadata": {},
   "outputs": [
    {
     "data": {
      "text/plain": [
       "(array([ 0,  1,  2,  3,  4,  5,  6,  7,  8,  9, 10, 11, 12]),\n",
       " <a list of 13 Text xticklabel objects>)"
      ]
     },
     "execution_count": 45,
     "metadata": {},
     "output_type": "execute_result"
    },
    {
     "data": {
      "image/png": "[encoded data removed]",
      "text/plain": [
       "<matplotlib.figure.Figure at 0x7f306bd090f0>"
      ]
     },
     "metadata": {
      "needs_background": "light"
     },
     "output_type": "display_data"
    }
   ],
   "source": [
    "data = df.groupby(['income_range', 'success_flag']).size()\n",
    "data = data.reset_index()\n",
    "data.columns = ['income_range', 'success_flag', 'count']\n",
    "\n",
    "plt.figure(figsize=(10, 5))\n",
    "sb.barplot(x='income_range', y='count', hue='success_flag', data=data)\n",
    "plt.xticks(rotation=90)"
   ]
  },
  {
   "cell_type": "markdown",
   "metadata": {},
   "source": [
    "Users with income between 50000 and 80000 respond the most to different ofers."
   ]
  },
  {
   "cell_type": "code",
   "execution_count": 46,
   "metadata": {},
   "outputs": [
    {
     "data": {
      "text/plain": [
       "(array([ 0,  1,  2,  3,  4,  5,  6,  7,  8,  9, 10, 11, 12]),\n",
       " <a list of 13 Text xticklabel objects>)"
      ]
     },
     "execution_count": 46,
     "metadata": {},
     "output_type": "execute_result"
    },
    {
     "data": {
      "image/png": "[encoded data removed]",
      "text/plain": [
       "<matplotlib.figure.Figure at 0x7f306bc74a90>"
      ]
     },
     "metadata": {
      "needs_background": "light"
     },
     "output_type": "display_data"
    }
   ],
   "source": [
    "from matplotlib import pyplot as plt\n",
    "\n",
    "data = df[['income_range', 'success_flag','amount']].groupby(['income_range', 'success_flag']).sum()\n",
    "data = data.reset_index()\n",
    "data.columns = ['income_range', 'success_flag', 'amount']\n",
    "\n",
    "plt.figure(figsize=(10, 5))\n",
    "sb.barplot(x='income_range', y='amount', hue='success_flag', data=data)\n",
    "plt.xticks(rotation=90)"
   ]
  },
  {
   "cell_type": "markdown",
   "metadata": {},
   "source": [
    "Users with income between 50000 and 100000 are those who make the most sales."
   ]
  },
  {
   "cell_type": "markdown",
   "metadata": {},
   "source": [
    "#### Final data cleaning for model building"
   ]
  },
  {
   "cell_type": "code",
   "execution_count": 47,
   "metadata": {
    "scrolled": true
   },
   "outputs": [
    {
     "name": "stdout",
     "output_type": "stream",
     "text": [
      "ML df saved...\n"
     ]
    },
    {
     "data": {
      "text/html": [
       "<div>\n",
       "<style scoped>\n",
       "    .dataframe tbody tr th:only-of-type {\n",
       "        vertical-align: middle;\n",
       "    }\n",
       "\n",
       "    .dataframe tbody tr th {\n",
       "        vertical-align: top;\n",
       "    }\n",
       "\n",
       "    .dataframe thead th {\n",
       "        text-align: right;\n",
       "    }\n",
       "</style>\n",
       "<table border=\"1\" class=\"dataframe\">\n",
       "  <thead>\n",
       "    <tr style=\"text-align: right;\">\n",
       "      <th></th>\n",
       "      <th>amount</th>\n",
       "      <th>success_flag</th>\n",
       "      <th>difficulty</th>\n",
       "      <th>duration</th>\n",
       "      <th>reward</th>\n",
       "      <th>channel_mobile</th>\n",
       "      <th>channel_email</th>\n",
       "      <th>channel_social</th>\n",
       "      <th>channel_web</th>\n",
       "      <th>age</th>\n",
       "      <th>income</th>\n",
       "      <th>became_member_on_year</th>\n",
       "      <th>became_member_on_month</th>\n",
       "      <th>gender_F</th>\n",
       "      <th>gender_M</th>\n",
       "      <th>gender_O</th>\n",
       "      <th>offer_type_bogo</th>\n",
       "      <th>offer_type_discount</th>\n",
       "      <th>offer_type_informational</th>\n",
       "    </tr>\n",
       "  </thead>\n",
       "  <tbody>\n",
       "    <tr>\n",
       "      <th>0</th>\n",
       "      <td>37.67</td>\n",
       "      <td>Yes</td>\n",
       "      <td>5</td>\n",
       "      <td>7</td>\n",
       "      <td>5</td>\n",
       "      <td>1</td>\n",
       "      <td>1</td>\n",
       "      <td>0</td>\n",
       "      <td>1</td>\n",
       "      <td>75</td>\n",
       "      <td>100000.0</td>\n",
       "      <td>2017</td>\n",
       "      <td>5</td>\n",
       "      <td>1</td>\n",
       "      <td>0</td>\n",
       "      <td>0</td>\n",
       "      <td>1</td>\n",
       "      <td>0</td>\n",
       "      <td>0</td>\n",
       "    </tr>\n",
       "    <tr>\n",
       "      <th>1</th>\n",
       "      <td>48.28</td>\n",
       "      <td>Yes</td>\n",
       "      <td>5</td>\n",
       "      <td>5</td>\n",
       "      <td>5</td>\n",
       "      <td>1</td>\n",
       "      <td>1</td>\n",
       "      <td>1</td>\n",
       "      <td>1</td>\n",
       "      <td>75</td>\n",
       "      <td>100000.0</td>\n",
       "      <td>2017</td>\n",
       "      <td>5</td>\n",
       "      <td>1</td>\n",
       "      <td>0</td>\n",
       "      <td>0</td>\n",
       "      <td>1</td>\n",
       "      <td>0</td>\n",
       "      <td>0</td>\n",
       "    </tr>\n",
       "    <tr>\n",
       "      <th>2</th>\n",
       "      <td>48.28</td>\n",
       "      <td>Yes</td>\n",
       "      <td>10</td>\n",
       "      <td>7</td>\n",
       "      <td>10</td>\n",
       "      <td>1</td>\n",
       "      <td>1</td>\n",
       "      <td>1</td>\n",
       "      <td>0</td>\n",
       "      <td>75</td>\n",
       "      <td>100000.0</td>\n",
       "      <td>2017</td>\n",
       "      <td>5</td>\n",
       "      <td>1</td>\n",
       "      <td>0</td>\n",
       "      <td>0</td>\n",
       "      <td>1</td>\n",
       "      <td>0</td>\n",
       "      <td>0</td>\n",
       "    </tr>\n",
       "    <tr>\n",
       "      <th>3</th>\n",
       "      <td>49.39</td>\n",
       "      <td>Yes</td>\n",
       "      <td>0</td>\n",
       "      <td>3</td>\n",
       "      <td>0</td>\n",
       "      <td>1</td>\n",
       "      <td>1</td>\n",
       "      <td>1</td>\n",
       "      <td>0</td>\n",
       "      <td>75</td>\n",
       "      <td>100000.0</td>\n",
       "      <td>2017</td>\n",
       "      <td>5</td>\n",
       "      <td>1</td>\n",
       "      <td>0</td>\n",
       "      <td>0</td>\n",
       "      <td>0</td>\n",
       "      <td>0</td>\n",
       "      <td>1</td>\n",
       "    </tr>\n",
       "    <tr>\n",
       "      <th>4</th>\n",
       "      <td>0.67</td>\n",
       "      <td>No</td>\n",
       "      <td>5</td>\n",
       "      <td>7</td>\n",
       "      <td>5</td>\n",
       "      <td>1</td>\n",
       "      <td>1</td>\n",
       "      <td>0</td>\n",
       "      <td>1</td>\n",
       "      <td>59</td>\n",
       "      <td>41000.0</td>\n",
       "      <td>2015</td>\n",
       "      <td>1</td>\n",
       "      <td>0</td>\n",
       "      <td>1</td>\n",
       "      <td>0</td>\n",
       "      <td>1</td>\n",
       "      <td>0</td>\n",
       "      <td>0</td>\n",
       "    </tr>\n",
       "  </tbody>\n",
       "</table>\n",
       "</div>"
      ],
      "text/plain": [
       "   amount success_flag  difficulty  duration  reward  channel_mobile  \\\n",
       "0   37.67          Yes           5         7       5               1   \n",
       "1   48.28          Yes           5         5       5               1   \n",
       "2   48.28          Yes          10         7      10               1   \n",
       "3   49.39          Yes           0         3       0               1   \n",
       "4    0.67           No           5         7       5               1   \n",
       "\n",
       "   channel_email  channel_social  channel_web  age    income  \\\n",
       "0              1               0            1   75  100000.0   \n",
       "1              1               1            1   75  100000.0   \n",
       "2              1               1            0   75  100000.0   \n",
       "3              1               1            0   75  100000.0   \n",
       "4              1               0            1   59   41000.0   \n",
       "\n",
       "   became_member_on_year  became_member_on_month  gender_F  gender_M  \\\n",
       "0                   2017                       5         1         0   \n",
       "1                   2017                       5         1         0   \n",
       "2                   2017                       5         1         0   \n",
       "3                   2017                       5         1         0   \n",
       "4                   2015                       1         0         1   \n",
       "\n",
       "   gender_O  offer_type_bogo  offer_type_discount  offer_type_informational  \n",
       "0         0                1                    0                         0  \n",
       "1         0                1                    0                         0  \n",
       "2         0                1                    0                         0  \n",
       "3         0                0                    0                         1  \n",
       "4         0                1                    0                         0  "
      ]
     },
     "execution_count": 47,
     "metadata": {},
     "output_type": "execute_result"
    }
   ],
   "source": [
    "irrelevant_columns = ['person_id','offer_id','age_range','income_range']\n",
    "df.drop(irrelevant_columns,axis=1,inplace=True)\n",
    "\n",
    "frames = [df,pd.get_dummies(df.gender, prefix='gender')]\n",
    "df = pd.concat(frames, axis=1, sort=False)\n",
    "\n",
    "frames = [df,pd.get_dummies(df.offer_type, prefix='offer_type')]\n",
    "df = pd.concat(frames, axis=1, sort=False)\n",
    "\n",
    "df = df.drop(['gender','offer_type'],axis=1)\n",
    "\n",
    "df.to_csv(\"data/ML_df.csv\",index=False)\n",
    "print(\"ML df saved...\")\n",
    "\n",
    "df.head()"
   ]
  },
  {
   "cell_type": "markdown",
   "metadata": {},
   "source": [
    "# 4. Modelling"
   ]
  },
  {
   "cell_type": "markdown",
   "metadata": {},
   "source": [
    "## Model that predicts whether or not someone will respond to an offer"
   ]
  },
  {
   "cell_type": "code",
   "execution_count": 48,
   "metadata": {},
   "outputs": [
    {
     "data": {
      "text/html": [
       "<div>\n",
       "<style scoped>\n",
       "    .dataframe tbody tr th:only-of-type {\n",
       "        vertical-align: middle;\n",
       "    }\n",
       "\n",
       "    .dataframe tbody tr th {\n",
       "        vertical-align: top;\n",
       "    }\n",
       "\n",
       "    .dataframe thead th {\n",
       "        text-align: right;\n",
       "    }\n",
       "</style>\n",
       "<table border=\"1\" class=\"dataframe\">\n",
       "  <thead>\n",
       "    <tr style=\"text-align: right;\">\n",
       "      <th></th>\n",
       "      <th>success_flag</th>\n",
       "      <th>difficulty</th>\n",
       "      <th>duration</th>\n",
       "      <th>reward</th>\n",
       "      <th>channel_mobile</th>\n",
       "      <th>channel_email</th>\n",
       "      <th>channel_social</th>\n",
       "      <th>channel_web</th>\n",
       "      <th>age</th>\n",
       "      <th>income</th>\n",
       "      <th>became_member_on_year</th>\n",
       "      <th>became_member_on_month</th>\n",
       "      <th>gender_F</th>\n",
       "      <th>gender_M</th>\n",
       "      <th>gender_O</th>\n",
       "      <th>offer_type_bogo</th>\n",
       "      <th>offer_type_discount</th>\n",
       "      <th>offer_type_informational</th>\n",
       "    </tr>\n",
       "  </thead>\n",
       "  <tbody>\n",
       "    <tr>\n",
       "      <th>0</th>\n",
       "      <td>1</td>\n",
       "      <td>5</td>\n",
       "      <td>7</td>\n",
       "      <td>5</td>\n",
       "      <td>1</td>\n",
       "      <td>1</td>\n",
       "      <td>0</td>\n",
       "      <td>1</td>\n",
       "      <td>75</td>\n",
       "      <td>100000.0</td>\n",
       "      <td>2017</td>\n",
       "      <td>5</td>\n",
       "      <td>1</td>\n",
       "      <td>0</td>\n",
       "      <td>0</td>\n",
       "      <td>1</td>\n",
       "      <td>0</td>\n",
       "      <td>0</td>\n",
       "    </tr>\n",
       "    <tr>\n",
       "      <th>1</th>\n",
       "      <td>1</td>\n",
       "      <td>5</td>\n",
       "      <td>5</td>\n",
       "      <td>5</td>\n",
       "      <td>1</td>\n",
       "      <td>1</td>\n",
       "      <td>1</td>\n",
       "      <td>1</td>\n",
       "      <td>75</td>\n",
       "      <td>100000.0</td>\n",
       "      <td>2017</td>\n",
       "      <td>5</td>\n",
       "      <td>1</td>\n",
       "      <td>0</td>\n",
       "      <td>0</td>\n",
       "      <td>1</td>\n",
       "      <td>0</td>\n",
       "      <td>0</td>\n",
       "    </tr>\n",
       "    <tr>\n",
       "      <th>2</th>\n",
       "      <td>1</td>\n",
       "      <td>10</td>\n",
       "      <td>7</td>\n",
       "      <td>10</td>\n",
       "      <td>1</td>\n",
       "      <td>1</td>\n",
       "      <td>1</td>\n",
       "      <td>0</td>\n",
       "      <td>75</td>\n",
       "      <td>100000.0</td>\n",
       "      <td>2017</td>\n",
       "      <td>5</td>\n",
       "      <td>1</td>\n",
       "      <td>0</td>\n",
       "      <td>0</td>\n",
       "      <td>1</td>\n",
       "      <td>0</td>\n",
       "      <td>0</td>\n",
       "    </tr>\n",
       "    <tr>\n",
       "      <th>3</th>\n",
       "      <td>1</td>\n",
       "      <td>0</td>\n",
       "      <td>3</td>\n",
       "      <td>0</td>\n",
       "      <td>1</td>\n",
       "      <td>1</td>\n",
       "      <td>1</td>\n",
       "      <td>0</td>\n",
       "      <td>75</td>\n",
       "      <td>100000.0</td>\n",
       "      <td>2017</td>\n",
       "      <td>5</td>\n",
       "      <td>1</td>\n",
       "      <td>0</td>\n",
       "      <td>0</td>\n",
       "      <td>0</td>\n",
       "      <td>0</td>\n",
       "      <td>1</td>\n",
       "    </tr>\n",
       "    <tr>\n",
       "      <th>4</th>\n",
       "      <td>0</td>\n",
       "      <td>5</td>\n",
       "      <td>7</td>\n",
       "      <td>5</td>\n",
       "      <td>1</td>\n",
       "      <td>1</td>\n",
       "      <td>0</td>\n",
       "      <td>1</td>\n",
       "      <td>59</td>\n",
       "      <td>41000.0</td>\n",
       "      <td>2015</td>\n",
       "      <td>1</td>\n",
       "      <td>0</td>\n",
       "      <td>1</td>\n",
       "      <td>0</td>\n",
       "      <td>1</td>\n",
       "      <td>0</td>\n",
       "      <td>0</td>\n",
       "    </tr>\n",
       "  </tbody>\n",
       "</table>\n",
       "</div>"
      ],
      "text/plain": [
       "   success_flag  difficulty  duration  reward  channel_mobile  channel_email  \\\n",
       "0             1           5         7       5               1              1   \n",
       "1             1           5         5       5               1              1   \n",
       "2             1          10         7      10               1              1   \n",
       "3             1           0         3       0               1              1   \n",
       "4             0           5         7       5               1              1   \n",
       "\n",
       "   channel_social  channel_web  age    income  became_member_on_year  \\\n",
       "0               0            1   75  100000.0                   2017   \n",
       "1               1            1   75  100000.0                   2017   \n",
       "2               1            0   75  100000.0                   2017   \n",
       "3               1            0   75  100000.0                   2017   \n",
       "4               0            1   59   41000.0                   2015   \n",
       "\n",
       "   became_member_on_month  gender_F  gender_M  gender_O  offer_type_bogo  \\\n",
       "0                       5         1         0         0                1   \n",
       "1                       5         1         0         0                1   \n",
       "2                       5         1         0         0                1   \n",
       "3                       5         1         0         0                0   \n",
       "4                       1         0         1         0                1   \n",
       "\n",
       "   offer_type_discount  offer_type_informational  \n",
       "0                    0                         0  \n",
       "1                    0                         0  \n",
       "2                    0                         0  \n",
       "3                    0                         1  \n",
       "4                    0                         0  "
      ]
     },
     "execution_count": 48,
     "metadata": {},
     "output_type": "execute_result"
    }
   ],
   "source": [
    "ML_df = pd.read_csv(\"data/ML_df.csv\")\n",
    "ML_offer_response_df = ML_df.drop(['amount'],axis=1)\n",
    "ML_offer_response_df['success_flag'] = ML_offer_response_df.success_flag.apply(lambda x: 1 if x==\"Yes\" else 0)\n",
    "ML_offer_response_df.head()"
   ]
  },
  {
   "cell_type": "markdown",
   "metadata": {},
   "source": [
    "### Building the model"
   ]
  },
  {
   "cell_type": "code",
   "execution_count": 49,
   "metadata": {},
   "outputs": [
    {
     "data": {
      "text/html": [
       "<div>\n",
       "<style scoped>\n",
       "    .dataframe tbody tr th:only-of-type {\n",
       "        vertical-align: middle;\n",
       "    }\n",
       "\n",
       "    .dataframe tbody tr th {\n",
       "        vertical-align: top;\n",
       "    }\n",
       "\n",
       "    .dataframe thead th {\n",
       "        text-align: right;\n",
       "    }\n",
       "</style>\n",
       "<table border=\"1\" class=\"dataframe\">\n",
       "  <thead>\n",
       "    <tr style=\"text-align: right;\">\n",
       "      <th></th>\n",
       "      <th>difficulty</th>\n",
       "      <th>duration</th>\n",
       "      <th>reward</th>\n",
       "      <th>channel_mobile</th>\n",
       "      <th>channel_email</th>\n",
       "      <th>channel_social</th>\n",
       "      <th>channel_web</th>\n",
       "      <th>age</th>\n",
       "      <th>income</th>\n",
       "      <th>became_member_on_year</th>\n",
       "      <th>became_member_on_month</th>\n",
       "      <th>gender_F</th>\n",
       "      <th>gender_M</th>\n",
       "      <th>gender_O</th>\n",
       "      <th>offer_type_bogo</th>\n",
       "      <th>offer_type_discount</th>\n",
       "      <th>offer_type_informational</th>\n",
       "    </tr>\n",
       "  </thead>\n",
       "  <tbody>\n",
       "    <tr>\n",
       "      <th>0</th>\n",
       "      <td>5</td>\n",
       "      <td>7</td>\n",
       "      <td>5</td>\n",
       "      <td>1</td>\n",
       "      <td>1</td>\n",
       "      <td>0</td>\n",
       "      <td>1</td>\n",
       "      <td>75</td>\n",
       "      <td>100000.0</td>\n",
       "      <td>2017</td>\n",
       "      <td>5</td>\n",
       "      <td>1</td>\n",
       "      <td>0</td>\n",
       "      <td>0</td>\n",
       "      <td>1</td>\n",
       "      <td>0</td>\n",
       "      <td>0</td>\n",
       "    </tr>\n",
       "    <tr>\n",
       "      <th>1</th>\n",
       "      <td>5</td>\n",
       "      <td>5</td>\n",
       "      <td>5</td>\n",
       "      <td>1</td>\n",
       "      <td>1</td>\n",
       "      <td>1</td>\n",
       "      <td>1</td>\n",
       "      <td>75</td>\n",
       "      <td>100000.0</td>\n",
       "      <td>2017</td>\n",
       "      <td>5</td>\n",
       "      <td>1</td>\n",
       "      <td>0</td>\n",
       "      <td>0</td>\n",
       "      <td>1</td>\n",
       "      <td>0</td>\n",
       "      <td>0</td>\n",
       "    </tr>\n",
       "    <tr>\n",
       "      <th>2</th>\n",
       "      <td>10</td>\n",
       "      <td>7</td>\n",
       "      <td>10</td>\n",
       "      <td>1</td>\n",
       "      <td>1</td>\n",
       "      <td>1</td>\n",
       "      <td>0</td>\n",
       "      <td>75</td>\n",
       "      <td>100000.0</td>\n",
       "      <td>2017</td>\n",
       "      <td>5</td>\n",
       "      <td>1</td>\n",
       "      <td>0</td>\n",
       "      <td>0</td>\n",
       "      <td>1</td>\n",
       "      <td>0</td>\n",
       "      <td>0</td>\n",
       "    </tr>\n",
       "  </tbody>\n",
       "</table>\n",
       "</div>"
      ],
      "text/plain": [
       "   difficulty  duration  reward  channel_mobile  channel_email  \\\n",
       "0           5         7       5               1              1   \n",
       "1           5         5       5               1              1   \n",
       "2          10         7      10               1              1   \n",
       "\n",
       "   channel_social  channel_web  age    income  became_member_on_year  \\\n",
       "0               0            1   75  100000.0                   2017   \n",
       "1               1            1   75  100000.0                   2017   \n",
       "2               1            0   75  100000.0                   2017   \n",
       "\n",
       "   became_member_on_month  gender_F  gender_M  gender_O  offer_type_bogo  \\\n",
       "0                       5         1         0         0                1   \n",
       "1                       5         1         0         0                1   \n",
       "2                       5         1         0         0                1   \n",
       "\n",
       "   offer_type_discount  offer_type_informational  \n",
       "0                    0                         0  \n",
       "1                    0                         0  \n",
       "2                    0                         0  "
      ]
     },
     "execution_count": 49,
     "metadata": {},
     "output_type": "execute_result"
    }
   ],
   "source": [
    "# label variable to predict\n",
    "label = ML_offer_response_df.success_flag\n",
    "\n",
    "# factors/features that influence the label variable\n",
    "features = ML_offer_response_df.drop(['success_flag'],axis=1)\n",
    "\n",
    "features.head(3)"
   ]
  },
  {
   "cell_type": "code",
   "execution_count": 50,
   "metadata": {},
   "outputs": [],
   "source": [
    "# define min max scaler\n",
    "scaler = MinMaxScaler()\n",
    "# transform data\n",
    "X_scaled = scaler.fit_transform(features.values)\n",
    "# Split data in train and test subsets\n",
    "X_train, X_test, y_train, y_test = train_test_split(X_scaled, label.values, test_size = 0.2, random_state=42)"
   ]
  },
  {
   "cell_type": "markdown",
   "metadata": {},
   "source": [
    "###  Initial model definition and fitting"
   ]
  },
  {
   "cell_type": "code",
   "execution_count": 51,
   "metadata": {},
   "outputs": [
    {
     "data": {
      "text/plain": [
       "RandomForestClassifier(bootstrap=True, class_weight=None, criterion='gini',\n",
       "            max_depth=15, max_features='auto', max_leaf_nodes=None,\n",
       "            min_impurity_decrease=0.0, min_impurity_split=None,\n",
       "            min_samples_leaf=1, min_samples_split=2,\n",
       "            min_weight_fraction_leaf=0.0, n_estimators=100, n_jobs=-1,\n",
       "            oob_score=False, random_state=42, verbose=0, warm_start=False)"
      ]
     },
     "execution_count": 51,
     "metadata": {},
     "output_type": "execute_result"
    }
   ],
   "source": [
    "# Initial estimator\n",
    "clf = RandomForestClassifier(n_estimators=100,max_depth=15,random_state=42, n_jobs=-1)\n",
    "\n",
    "clf.fit(X_train, y_train)"
   ]
  },
  {
   "cell_type": "markdown",
   "metadata": {},
   "source": [
    "# 5. Model Evaluation"
   ]
  },
  {
   "cell_type": "markdown",
   "metadata": {},
   "source": [
    "###  Initial model evaluation"
   ]
  },
  {
   "cell_type": "code",
   "execution_count": 52,
   "metadata": {},
   "outputs": [
    {
     "name": "stdout",
     "output_type": "stream",
     "text": [
      "Accuracy on train data: 84.35%\n",
      "Accuracy on test data: 70.21%\n",
      "\n",
      "F1 score on train data: 84.15%\n",
      "F1 score on test data: 69.36%\n"
     ]
    }
   ],
   "source": [
    "print(\"Accuracy on train data: {:.2f}%\".format(100.0*clf.score(X_train, y_train)))\n",
    "print(\"Accuracy on test data: {:.2f}%\".format(100.0*clf.score(X_test, y_test)))\n",
    "\n",
    "y_train_preds = clf.predict(X_train)\n",
    "y_test_preds = clf.predict(X_test)\n",
    "\n",
    "print(\"\")\n",
    "\n",
    "print(\"F1 score on train data: {:.2f}%\".format(100.0*f1_score(y_train_preds, y_train)))\n",
    "print(\"F1 score on test data: {:.2f}%\".format(100.0*f1_score(y_test_preds, y_test)))\n"
   ]
  },
  {
   "cell_type": "markdown",
   "metadata": {},
   "source": [
    "***The model seems to be some how slightly overfitted. It does not generalized very well as the test performance is clearly low compared to training performance*** "
   ]
  },
  {
   "cell_type": "markdown",
   "metadata": {},
   "source": [
    "### Model feature importances"
   ]
  },
  {
   "cell_type": "code",
   "execution_count": 53,
   "metadata": {},
   "outputs": [
    {
     "data": {
      "image/png": "[encoded data removed]",
      "text/plain": [
       "<matplotlib.figure.Figure at 0x7f306bb6fc88>"
      ]
     },
     "metadata": {
      "needs_background": "light"
     },
     "output_type": "display_data"
    }
   ],
   "source": [
    "# Plotting feature importances\n",
    "#============================\n",
    "\n",
    "headers = [\"name\", \"score\"]\n",
    "values = sorted(zip(features.columns, clf.feature_importances_), key=lambda x: x[1] * -1)\n",
    "forest_feature_importances = pd.DataFrame(values, columns = headers)\n",
    "forest_feature_importances = forest_feature_importances.sort_values(by = ['score'], ascending = False)\n",
    "\n",
    "feats = forest_feature_importances['name'][:]\n",
    "y_pos = np.arange(len(feats))\n",
    "scores = forest_feature_importances['score'][:]\n",
    "\n",
    "#plot feature importances\n",
    "plt.figure(figsize=(10,5))\n",
    "plt.bar(y_pos, scores, align='center', alpha=0.5)\n",
    "plt.xticks(y_pos, feats, rotation='vertical')\n",
    "plt.ylabel('Score')\n",
    "plt.xlabel('Features')\n",
    "plt.title('Feature importances (Random Forest)')\n",
    " \n",
    "plt.show()\n"
   ]
  },
  {
   "cell_type": "markdown",
   "metadata": {},
   "source": [
    "According to this initial model - *age* and *income* of the user of the starbuck app are the most important factors explaining the response to offers."
   ]
  },
  {
   "cell_type": "markdown",
   "metadata": {},
   "source": [
    "### Model cross validation - Applying RandomizedSearchCV"
   ]
  },
  {
   "cell_type": "markdown",
   "metadata": {},
   "source": [
    "This task could take more than 5 minutes to complete."
   ]
  },
  {
   "cell_type": "code",
   "execution_count": 54,
   "metadata": {},
   "outputs": [
    {
     "name": "stdout",
     "output_type": "stream",
     "text": [
      "Fitting 5 folds for each of 10 candidates, totalling 50 fits\n",
      "[CV] n_estimators=50, min_samples_split=3, min_impurity_decrease=0.0001, max_depth=30 \n",
      "[CV]  n_estimators=50, min_samples_split=3, min_impurity_decrease=0.0001, max_depth=30, total=   1.5s\n",
      "[CV] n_estimators=50, min_samples_split=3, min_impurity_decrease=0.0001, max_depth=30 \n"
     ]
    },
    {
     "name": "stderr",
     "output_type": "stream",
     "text": [
      "[Parallel(n_jobs=-1)]: Done   1 out of   1 | elapsed:    1.7s remaining:    0.0s\n"
     ]
    },
    {
     "name": "stdout",
     "output_type": "stream",
     "text": [
      "[CV]  n_estimators=50, min_samples_split=3, min_impurity_decrease=0.0001, max_depth=30, total=   1.5s\n",
      "[CV] n_estimators=50, min_samples_split=3, min_impurity_decrease=0.0001, max_depth=30 \n",
      "[CV]  n_estimators=50, min_samples_split=3, min_impurity_decrease=0.0001, max_depth=30, total=   1.4s\n",
      "[CV] n_estimators=50, min_samples_split=3, min_impurity_decrease=0.0001, max_depth=30 \n",
      "[CV]  n_estimators=50, min_samples_split=3, min_impurity_decrease=0.0001, max_depth=30, total=   1.5s\n",
      "[CV] n_estimators=50, min_samples_split=3, min_impurity_decrease=0.0001, max_depth=30 \n",
      "[CV]  n_estimators=50, min_samples_split=3, min_impurity_decrease=0.0001, max_depth=30, total=   1.5s\n",
      "[CV] n_estimators=50, min_samples_split=2, min_impurity_decrease=0.0001, max_depth=20 \n",
      "[CV]  n_estimators=50, min_samples_split=2, min_impurity_decrease=0.0001, max_depth=20, total=   1.5s\n",
      "[CV] n_estimators=50, min_samples_split=2, min_impurity_decrease=0.0001, max_depth=20 \n",
      "[CV]  n_estimators=50, min_samples_split=2, min_impurity_decrease=0.0001, max_depth=20, total=   1.5s\n",
      "[CV] n_estimators=50, min_samples_split=2, min_impurity_decrease=0.0001, max_depth=20 \n",
      "[CV]  n_estimators=50, min_samples_split=2, min_impurity_decrease=0.0001, max_depth=20, total=   1.4s\n",
      "[CV] n_estimators=50, min_samples_split=2, min_impurity_decrease=0.0001, max_depth=20 \n",
      "[CV]  n_estimators=50, min_samples_split=2, min_impurity_decrease=0.0001, max_depth=20, total=   1.5s\n",
      "[CV] n_estimators=50, min_samples_split=2, min_impurity_decrease=0.0001, max_depth=20 \n",
      "[CV]  n_estimators=50, min_samples_split=2, min_impurity_decrease=0.0001, max_depth=20, total=   1.7s\n",
      "[CV] n_estimators=100, min_samples_split=3, min_impurity_decrease=1e-06, max_depth=20 \n",
      "[CV]  n_estimators=100, min_samples_split=3, min_impurity_decrease=1e-06, max_depth=20, total=   5.3s\n",
      "[CV] n_estimators=100, min_samples_split=3, min_impurity_decrease=1e-06, max_depth=20 \n",
      "[CV]  n_estimators=100, min_samples_split=3, min_impurity_decrease=1e-06, max_depth=20, total=   5.2s\n",
      "[CV] n_estimators=100, min_samples_split=3, min_impurity_decrease=1e-06, max_depth=20 \n",
      "[CV]  n_estimators=100, min_samples_split=3, min_impurity_decrease=1e-06, max_depth=20, total=   5.2s\n",
      "[CV] n_estimators=100, min_samples_split=3, min_impurity_decrease=1e-06, max_depth=20 \n",
      "[CV]  n_estimators=100, min_samples_split=3, min_impurity_decrease=1e-06, max_depth=20, total=   5.4s\n",
      "[CV] n_estimators=100, min_samples_split=3, min_impurity_decrease=1e-06, max_depth=20 \n",
      "[CV]  n_estimators=100, min_samples_split=3, min_impurity_decrease=1e-06, max_depth=20, total=   5.2s\n",
      "[CV] n_estimators=100, min_samples_split=3, min_impurity_decrease=0.0001, max_depth=30 \n",
      "[CV]  n_estimators=100, min_samples_split=3, min_impurity_decrease=0.0001, max_depth=30, total=   3.0s\n",
      "[CV] n_estimators=100, min_samples_split=3, min_impurity_decrease=0.0001, max_depth=30 \n",
      "[CV]  n_estimators=100, min_samples_split=3, min_impurity_decrease=0.0001, max_depth=30, total=   2.9s\n",
      "[CV] n_estimators=100, min_samples_split=3, min_impurity_decrease=0.0001, max_depth=30 \n",
      "[CV]  n_estimators=100, min_samples_split=3, min_impurity_decrease=0.0001, max_depth=30, total=   3.1s\n",
      "[CV] n_estimators=100, min_samples_split=3, min_impurity_decrease=0.0001, max_depth=30 \n",
      "[CV]  n_estimators=100, min_samples_split=3, min_impurity_decrease=0.0001, max_depth=30, total=   2.9s\n",
      "[CV] n_estimators=100, min_samples_split=3, min_impurity_decrease=0.0001, max_depth=30 \n",
      "[CV]  n_estimators=100, min_samples_split=3, min_impurity_decrease=0.0001, max_depth=30, total=   3.0s\n",
      "[CV] n_estimators=50, min_samples_split=2, min_impurity_decrease=1e-06, max_depth=20 \n",
      "[CV]  n_estimators=50, min_samples_split=2, min_impurity_decrease=1e-06, max_depth=20, total=   2.6s\n",
      "[CV] n_estimators=50, min_samples_split=2, min_impurity_decrease=1e-06, max_depth=20 \n",
      "[CV]  n_estimators=50, min_samples_split=2, min_impurity_decrease=1e-06, max_depth=20, total=   2.7s\n",
      "[CV] n_estimators=50, min_samples_split=2, min_impurity_decrease=1e-06, max_depth=20 \n",
      "[CV]  n_estimators=50, min_samples_split=2, min_impurity_decrease=1e-06, max_depth=20, total=   2.6s\n",
      "[CV] n_estimators=50, min_samples_split=2, min_impurity_decrease=1e-06, max_depth=20 \n",
      "[CV]  n_estimators=50, min_samples_split=2, min_impurity_decrease=1e-06, max_depth=20, total=   2.8s\n",
      "[CV] n_estimators=50, min_samples_split=2, min_impurity_decrease=1e-06, max_depth=20 \n",
      "[CV]  n_estimators=50, min_samples_split=2, min_impurity_decrease=1e-06, max_depth=20, total=   2.6s\n",
      "[CV] n_estimators=100, min_samples_split=2, min_impurity_decrease=0.0001, max_depth=30 \n",
      "[CV]  n_estimators=100, min_samples_split=2, min_impurity_decrease=0.0001, max_depth=30, total=   3.0s\n",
      "[CV] n_estimators=100, min_samples_split=2, min_impurity_decrease=0.0001, max_depth=30 \n",
      "[CV]  n_estimators=100, min_samples_split=2, min_impurity_decrease=0.0001, max_depth=30, total=   3.0s\n",
      "[CV] n_estimators=100, min_samples_split=2, min_impurity_decrease=0.0001, max_depth=30 \n",
      "[CV]  n_estimators=100, min_samples_split=2, min_impurity_decrease=0.0001, max_depth=30, total=   2.9s\n",
      "[CV] n_estimators=100, min_samples_split=2, min_impurity_decrease=0.0001, max_depth=30 \n",
      "[CV]  n_estimators=100, min_samples_split=2, min_impurity_decrease=0.0001, max_depth=30, total=   2.9s\n",
      "[CV] n_estimators=100, min_samples_split=2, min_impurity_decrease=0.0001, max_depth=30 \n",
      "[CV]  n_estimators=100, min_samples_split=2, min_impurity_decrease=0.0001, max_depth=30, total=   3.2s\n",
      "[CV] n_estimators=100, min_samples_split=2, min_impurity_decrease=1e-05, max_depth=20 \n",
      "[CV]  n_estimators=100, min_samples_split=2, min_impurity_decrease=1e-05, max_depth=20, total=   4.3s\n",
      "[CV] n_estimators=100, min_samples_split=2, min_impurity_decrease=1e-05, max_depth=20 \n",
      "[CV]  n_estimators=100, min_samples_split=2, min_impurity_decrease=1e-05, max_depth=20, total=   4.3s\n",
      "[CV] n_estimators=100, min_samples_split=2, min_impurity_decrease=1e-05, max_depth=20 \n",
      "[CV]  n_estimators=100, min_samples_split=2, min_impurity_decrease=1e-05, max_depth=20, total=   4.3s\n",
      "[CV] n_estimators=100, min_samples_split=2, min_impurity_decrease=1e-05, max_depth=20 \n",
      "[CV]  n_estimators=100, min_samples_split=2, min_impurity_decrease=1e-05, max_depth=20, total=   4.5s\n",
      "[CV] n_estimators=100, min_samples_split=2, min_impurity_decrease=1e-05, max_depth=20 \n",
      "[CV]  n_estimators=100, min_samples_split=2, min_impurity_decrease=1e-05, max_depth=20, total=   4.3s\n",
      "[CV] n_estimators=100, min_samples_split=4, min_impurity_decrease=1e-05, max_depth=40 \n",
      "[CV]  n_estimators=100, min_samples_split=4, min_impurity_decrease=1e-05, max_depth=40, total=   4.3s\n",
      "[CV] n_estimators=100, min_samples_split=4, min_impurity_decrease=1e-05, max_depth=40 \n",
      "[CV]  n_estimators=100, min_samples_split=4, min_impurity_decrease=1e-05, max_depth=40, total=   4.3s\n",
      "[CV] n_estimators=100, min_samples_split=4, min_impurity_decrease=1e-05, max_depth=40 \n",
      "[CV]  n_estimators=100, min_samples_split=4, min_impurity_decrease=1e-05, max_depth=40, total=   4.5s\n",
      "[CV] n_estimators=100, min_samples_split=4, min_impurity_decrease=1e-05, max_depth=40 \n",
      "[CV]  n_estimators=100, min_samples_split=4, min_impurity_decrease=1e-05, max_depth=40, total=   4.3s\n",
      "[CV] n_estimators=100, min_samples_split=4, min_impurity_decrease=1e-05, max_depth=40 \n",
      "[CV]  n_estimators=100, min_samples_split=4, min_impurity_decrease=1e-05, max_depth=40, total=   4.3s\n",
      "[CV] n_estimators=100, min_samples_split=3, min_impurity_decrease=0.0001, max_depth=20 \n",
      "[CV]  n_estimators=100, min_samples_split=3, min_impurity_decrease=0.0001, max_depth=20, total=   3.0s\n",
      "[CV] n_estimators=100, min_samples_split=3, min_impurity_decrease=0.0001, max_depth=20 \n",
      "[CV]  n_estimators=100, min_samples_split=3, min_impurity_decrease=0.0001, max_depth=20, total=   3.0s\n",
      "[CV] n_estimators=100, min_samples_split=3, min_impurity_decrease=0.0001, max_depth=20 \n",
      "[CV]  n_estimators=100, min_samples_split=3, min_impurity_decrease=0.0001, max_depth=20, total=   3.2s\n",
      "[CV] n_estimators=100, min_samples_split=3, min_impurity_decrease=0.0001, max_depth=20 \n",
      "[CV]  n_estimators=100, min_samples_split=3, min_impurity_decrease=0.0001, max_depth=20, total=   3.0s\n",
      "[CV] n_estimators=100, min_samples_split=3, min_impurity_decrease=0.0001, max_depth=20 \n",
      "[CV]  n_estimators=100, min_samples_split=3, min_impurity_decrease=0.0001, max_depth=20, total=   3.0s\n",
      "[CV] n_estimators=50, min_samples_split=3, min_impurity_decrease=1e-05, max_depth=20 \n",
      "[CV]  n_estimators=50, min_samples_split=3, min_impurity_decrease=1e-05, max_depth=20, total=   2.1s\n",
      "[CV] n_estimators=50, min_samples_split=3, min_impurity_decrease=1e-05, max_depth=20 \n",
      "[CV]  n_estimators=50, min_samples_split=3, min_impurity_decrease=1e-05, max_depth=20, total=   2.1s\n",
      "[CV] n_estimators=50, min_samples_split=3, min_impurity_decrease=1e-05, max_depth=20 \n",
      "[CV]  n_estimators=50, min_samples_split=3, min_impurity_decrease=1e-05, max_depth=20, total=   2.1s\n",
      "[CV] n_estimators=50, min_samples_split=3, min_impurity_decrease=1e-05, max_depth=20 \n",
      "[CV]  n_estimators=50, min_samples_split=3, min_impurity_decrease=1e-05, max_depth=20, total=   2.1s\n",
      "[CV] n_estimators=50, min_samples_split=3, min_impurity_decrease=1e-05, max_depth=20 \n",
      "[CV]  n_estimators=50, min_samples_split=3, min_impurity_decrease=1e-05, max_depth=20, total=   2.3s\n"
     ]
    },
    {
     "name": "stderr",
     "output_type": "stream",
     "text": [
      "[Parallel(n_jobs=-1)]: Done  50 out of  50 | elapsed:  2.9min finished\n"
     ]
    },
    {
     "name": "stdout",
     "output_type": "stream",
     "text": [
      "\n",
      " {'n_estimators': 100, 'min_samples_split': 4, 'min_impurity_decrease': 1e-05, 'max_depth': 40}\n",
      "best_estimator - Accuracy on train data: 0.81\n",
      "best_estimator - Accuracy on test data: 0.71\n",
      "End of parameter selection...\n"
     ]
    }
   ],
   "source": [
    "# Model tunning - parameter selection with \"randomized search CV\"\n",
    "\n",
    "n_estimators = [50,100,200]\n",
    "max_depth = [20,30,40]\n",
    "min_samples_split=[2,3,4]\n",
    "min_impurity_decrease=[0.0001, 0.00001, 0.000001]\n",
    "\n",
    "random_grid = {\n",
    "    'n_estimators': n_estimators,\n",
    "    'max_depth': max_depth,\n",
    "    'min_samples_split':min_samples_split,\n",
    "    'min_impurity_decrease': min_impurity_decrease\n",
    "}\n",
    "\n",
    "rfc = RandomForestClassifier(random_state=42, n_jobs=-1)\n",
    "rf_random = RandomizedSearchCV(estimator = rfc, param_distributions = random_grid, cv = 5, verbose=2, random_state=42, n_jobs = -1)\n",
    "# Fit the random search model\n",
    "rf_random.fit(X_train,y_train)\n",
    "\n",
    "print(\"\\n\",rf_random.best_params_)\n",
    "\n",
    "print(\"best_estimator - Accuracy on train data: {:.2f}\".format(rf_random.best_estimator_.score(X_train, y_train)))\n",
    "print(\"best_estimator - Accuracy on test data: {:.2f}\".format(rf_random.best_estimator_.score(X_test, y_test)))\n",
    "print(\"End of parameter selection...\")"
   ]
  },
  {
   "cell_type": "markdown",
   "metadata": {},
   "source": [
    "### Evaluation of the best model"
   ]
  },
  {
   "cell_type": "code",
   "execution_count": 55,
   "metadata": {},
   "outputs": [
    {
     "name": "stdout",
     "output_type": "stream",
     "text": [
      "\n",
      "best parameters:  {'n_estimators': 100, 'min_samples_split': 4, 'min_impurity_decrease': 1e-05, 'max_depth': 40}\n",
      "\n",
      "best_estimator - Accuracy on train data: 81.41%\n",
      "best_estimator - Accuracy on test data: 70.80%\n",
      "\n",
      "best_estimator - f1_score on train data: 80.70%\n",
      "best_estimator - f1_score on test data: 69.45%\n",
      "\n",
      "End of parameter selection...\n"
     ]
    }
   ],
   "source": [
    "print(\"\\nbest parameters: \",rf_random.best_params_)\n",
    "print()\n",
    "print(\"best_estimator - Accuracy on train data: {:.2f}%\".format(100.0*rf_random.best_estimator_.score(X_train, y_train)))\n",
    "print(\"best_estimator - Accuracy on test data: {:.2f}%\".format(100.0*rf_random.best_estimator_.score(X_test, y_test)))\n",
    "print()\n",
    "print(\"best_estimator - f1_score on train data: {:.2f}%\".format(100.0*f1_score(rf_random.best_estimator_.predict(X_train), y_train)))\n",
    "print(\"best_estimator - f1_score on test data: {:.2f}%\".format(100.0*f1_score(rf_random.best_estimator_.predict(X_test), y_test)))\n",
    "print(\"\\nEnd of parameter selection...\")"
   ]
  },
  {
   "cell_type": "markdown",
   "metadata": {},
   "source": [
    "***The best model here is based on cross-validated parameters. It is therefore more stable than the initial model.***"
   ]
  },
  {
   "cell_type": "markdown",
   "metadata": {},
   "source": [
    "### Feature importances after model selection"
   ]
  },
  {
   "cell_type": "code",
   "execution_count": 56,
   "metadata": {},
   "outputs": [
    {
     "data": {
      "image/png": "[encoded data removed]",
      "text/plain": [
       "<matplotlib.figure.Figure at 0x7f306bb6f048>"
      ]
     },
     "metadata": {
      "needs_background": "light"
     },
     "output_type": "display_data"
    }
   ],
   "source": [
    "#Feature importances after model selection\n",
    "headers = [\"name\", \"score\"]\n",
    "values = sorted(zip(features.columns, rf_random.best_estimator_.feature_importances_), key=lambda x: x[1] * -1)\n",
    "forest_feature_importances = pd.DataFrame(values, columns = headers)\n",
    "forest_feature_importances = forest_feature_importances.sort_values(by = ['score'], ascending = False)\n",
    "\n",
    "feats = forest_feature_importances['name'][:]\n",
    "y_pos = np.arange(len(feats))\n",
    "scores = forest_feature_importances['score'][:]\n",
    "\n",
    "#plot feature importances\n",
    "plt.figure(figsize=(10,5))\n",
    "plt.bar(y_pos, scores, align='center', alpha=0.5)\n",
    "plt.xticks(y_pos, feats, rotation='vertical')\n",
    "plt.ylabel('Score')\n",
    "plt.xlabel('Features')\n",
    "plt.title('Feature importances after model selection')\n",
    " \n",
    "plt.show()"
   ]
  },
  {
   "cell_type": "markdown",
   "metadata": {},
   "source": [
    "The income and age of the users of tha starbuck app are the most important features for predicting whether a user will respond to an offer or not. These are followed by year/month where the user became member and the use of social media. Offer type and gender of the user play a second role in this context. The information about the email channel does not contribute that much."
   ]
  },
  {
   "cell_type": "markdown",
   "metadata": {},
   "source": [
    "# 6. Conclusion"
   ]
  },
  {
   "cell_type": "markdown",
   "metadata": {},
   "source": [
    "The central problem I have chosen to solve in this Starbucks Capstone Challenge is predicting the responsiveness of a user to a given offer sent through Starbuck reward app.\n",
    "\n",
    "The combination of transaction data, profile and portfolio data inevitably leads to the question of the predictability of the outcome of transactional interactions. The data preparation phase of this project was particularly challenging as different transactional interactions (receive, view, complete) have to be combined logically in order to replicate the right sense of the offer and transaction process. \n",
    "After merging combined transactional data to profile and portfolio data, an exploratory analysis has made some insights visible. Hence, the questions asked in section 1. could be answered.\n",
    "\n",
    "**- Which are the most accepted offers ?**\n",
    "\n",
    "The following 3 offers have been mostly responded by users.They are the most accepted offers so far:\n",
    "\n",
    "    - fafdcd668e3743c1bb461111dcafc2a4\n",
    "    - 2298d6c36e964ae4a3e7e9706d1fb8c2\n",
    "    - f19421c1d4aa40978ebb69ca19b0e20d\n",
    "\n",
    "**- Which are the most beneficial offers from the perspective of revenues ?**\n",
    "\n",
    "The following two offers have generated the highest revenue\n",
    "\n",
    "    - fafdcd668e3743c1bb461111dcafc2a4\n",
    "    - 2298d6c36e964ae4a3e7e9706d1fb8c2\n",
    "    \n",
    "The 2 most successful offers are of type \"discount\", have a duration of 7 or 10 days and reward of 2 or 3.\n",
    "    \n",
    "**- What is the profile of the typical/ideal target user (age, income, gender) ?**\n",
    "\n",
    "The typical/ideal target user are basically those who respond to offers and allow for generating revenue. As seen in exploratory analysis, users aged between 40 and 70 years having an income between 50000 and 100000 are those who respond the most to different offers and generate the highest revenues. Women respond proportionally more than men and generated more revenue than men. It would make sens to invest in getting more women as member.\n",
    "\n",
    "**- Could the response of a given user to a given offer be precited ? Will a given user respond to a given offer ?**\n",
    "\n",
    "The predictive model build in this project is a classifier based on random forest logics.The best cross-validated model which is the one with the best average performance shows 81.41% accuracy on training data and 70.80% accuracy on test data. The f1-scores of 80.70% on training data and 69.45% on test data are at the same range as accuracy scores above. Hence, it could be predicted with at least 70.80% accuracy whether a user will respond to an offer or not. \n",
    "\n",
    "**- What are the most importants factors when it is about to predict the responsiveness of a user to an offer ?**\n",
    "\n",
    "The age and income of the users are the most important factors explaining the responsiveness of the users to different offers. However, the year/month where the user became a member expressing the loyality are also important role in this context. The use of social media also one of the 5 most important factors according to the model.\n",
    "\n",
    "However, the performance results achieved here could be improved using different machine learning techniques like parameter tuning or the use of other classification models. "
   ]
  },
  {
   "cell_type": "code",
   "execution_count": null,
   "metadata": {},
   "outputs": [],
   "source": []
  }
 ],
 "metadata": {
  "kernelspec": {
   "display_name": "Python 3",
   "language": "python",
   "name": "python3"
  },
  "language_info": {
   "codemirror_mode": {
    "name": "ipython",
    "version": 3
   },
   "file_extension": ".py",
   "mimetype": "text/x-python",
   "name": "python",
   "nbconvert_exporter": "python",
   "pygments_lexer": "ipython3",
   "version": "3.6.3"
  }
 },
 "nbformat": 4,
 "nbformat_minor": 2
}
